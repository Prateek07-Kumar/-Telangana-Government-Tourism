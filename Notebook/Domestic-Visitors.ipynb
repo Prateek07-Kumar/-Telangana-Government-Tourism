{
 "cells": [
  {
   "cell_type": "code",
   "execution_count": 2,
   "metadata": {},
   "outputs": [],
   "source": [
    "import pandas as pd\n",
    "import numpy as np\n",
    "import matplotlib.pyplot as plt\n",
    "import seaborn as sns"
   ]
  },
  {
   "cell_type": "code",
   "execution_count": 6,
   "metadata": {},
   "outputs": [],
   "source": [
    "df= pd.read_csv(\"D:\\\\domestic_visitors_2016.csv\")\n",
    "df1=pd.read_csv(\"D:\\domestic_visitors_2017.csv\")\n",
    "df2=pd.read_csv(\"D:\\domestic_visitors_2018.csv\")\n",
    "df3=pd.read_csv(\"D:\\domestic_visitors_2019.csv\")"
   ]
  },
  {
   "cell_type": "code",
   "execution_count": 7,
   "metadata": {},
   "outputs": [],
   "source": [
    "def head(n):\n",
    "    return n.head()\n",
    "\n",
    "def shape(n):\n",
    "    return n.shape\n",
    "\n",
    "def null(n):\n",
    "    return n.isnull().sum()\n",
    "\n",
    "def inf(n):\n",
    "    n.info()\n",
    "    \n",
    "def dupli(n):\n",
    "    return n.duplicated.sum()\n",
    "\n",
    "def dropna(n):\n",
    "    n.dropna(inplace=True)"
   ]
  },
  {
   "cell_type": "code",
   "execution_count": 13,
   "metadata": {},
   "outputs": [
    {
     "name": "stdout",
     "output_type": "stream",
     "text": [
      "2016 \n",
      "    district        date     month  year visitors\n",
      "0  Adilabad  01-01-2016   January  2016   792136\n",
      "1  Adilabad  01-02-2016  February  2016   937820\n",
      "2  Adilabad  01-03-2016     March  2016   582946\n",
      "3  Adilabad  01-04-2016     April  2016   341948\n",
      "4  Adilabad  01-05-2016       May  2016   252887\n",
      "\n",
      "\n",
      "2017 \n",
      "    district        date     month  year visitors\n",
      "0  Adilabad  01-01-2017   January  2017   318799\n",
      "1  Adilabad  01-02-2017  February  2017    83316\n",
      "2  Adilabad  01-03-2017     March  2017    27508\n",
      "3  Adilabad  01-04-2017     April  2017    13946\n",
      "4  Adilabad  01-05-2017       May  2017    11752\n",
      "\n",
      "\n",
      "2018 \n",
      "    district        date     month  year visitors\n",
      "0  Adilabad  01-01-2018   January  2018   320356\n",
      "1  Adilabad  01-02-2018  February  2018    36550\n",
      "2  Adilabad  01-03-2018     March  2018    23011\n",
      "3  Adilabad  01-04-2018     April  2018    14183\n",
      "4  Adilabad  01-05-2018       May  2018     8197\n",
      "\n",
      "\n",
      "2019 \n",
      "    district        date     month  year visitors\n",
      "0  Adilabad  01-01-2019   January  2019    25071\n",
      "1  Adilabad  01-02-2019  February  2019   406177\n",
      "2  Adilabad  01-03-2019     March  2019    14347\n",
      "3  Adilabad  01-04-2019     April  2019     9972\n",
      "4  Adilabad  01-05-2019       May  2019     6997\n"
     ]
    }
   ],
   "source": [
    "print(\"2016 \\n\",head(df))\n",
    "print(\"\\n\")\n",
    "print(\"2017 \\n\",head(df1))\n",
    "print(\"\\n\")\n",
    "print(\"2018 \\n\",head(df2))\n",
    "print(\"\\n\")\n",
    "print(\"2019 \\n\",head(df3))\n"
   ]
  },
  {
   "cell_type": "code",
   "execution_count": 14,
   "metadata": {},
   "outputs": [
    {
     "name": "stdout",
     "output_type": "stream",
     "text": [
      "2016 \n",
      "\n",
      "Total Number of Rows : 372\n",
      "Total Number of Columns : 5\n",
      "\n",
      "\n",
      "2017 \n",
      "\n",
      "Total Number of Rows : 372\n",
      "Total Number of Columns : 5\n",
      "\n",
      "\n",
      "2018\n",
      "\n",
      "Total Number of Rows : 372\n",
      "Total Number of Columns : 5\n",
      "\n",
      "\n",
      "2019 \n",
      "\n",
      "Total Number of Rows : 396\n",
      "Total Number of Columns : 5\n",
      "\n",
      "\n"
     ]
    }
   ],
   "source": [
    "print(\"2016 \\n\")\n",
    "print(\"Total Number of Rows :\", df.shape[0])\n",
    "print(\"Total Number of Columns :\",df.shape[1])\n",
    "print(\"\\n\")\n",
    "\n",
    "print(\"2017 \\n\")\n",
    "print(\"Total Number of Rows :\", df1.shape[0])\n",
    "print(\"Total Number of Columns :\",df1.shape[1])\n",
    "print(\"\\n\")\n",
    "\n",
    "print(\"2018\\n\")\n",
    "print(\"Total Number of Rows :\", df2.shape[0])\n",
    "print(\"Total Number of Columns :\",df2.shape[1])\n",
    "print(\"\\n\")\n",
    "\n",
    "print(\"2019 \\n\")\n",
    "print(\"Total Number of Rows :\", df3.shape[0])\n",
    "print(\"Total Number of Columns :\",df3.shape[1])\n",
    "print(\"\\n\") "
   ]
  },
  {
   "cell_type": "code",
   "execution_count": null,
   "metadata": {},
   "outputs": [],
   "source": []
  }
 ],
 "metadata": {
  "kernelspec": {
   "display_name": "base",
   "language": "python",
   "name": "python3"
  },
  "language_info": {
   "codemirror_mode": {
    "name": "ipython",
    "version": 3
   },
   "file_extension": ".py",
   "mimetype": "text/x-python",
   "name": "python",
   "nbconvert_exporter": "python",
   "pygments_lexer": "ipython3",
   "version": "3.10.9"
  },
  "orig_nbformat": 4
 },
 "nbformat": 4,
 "nbformat_minor": 2
}
