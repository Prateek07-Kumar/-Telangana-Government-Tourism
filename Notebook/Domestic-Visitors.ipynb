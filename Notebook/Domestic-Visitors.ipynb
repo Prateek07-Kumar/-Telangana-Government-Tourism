{
 "cells": [
  {
   "cell_type": "code",
   "execution_count": 5,
   "metadata": {},
   "outputs": [],
   "source": [
    "# Importing the libraries\n",
    "\n",
    "import pandas as pd\n",
    "import numpy as np\n",
    "import matplotlib.pyplot as plta\n",
    "import seaborn as sns\n"
   ]
  },
  {
   "attachments": {},
   "cell_type": "markdown",
   "metadata": {},
   "source": [
    "**Loading Dataset**"
   ]
  },
  {
   "cell_type": "code",
   "execution_count": 6,
   "metadata": {},
   "outputs": [],
   "source": [
    "df= pd.read_csv(\"D:\\\\domestic_visitors_2016.csv\")\n",
    "df1=pd.read_csv(\"D:\\domestic_visitors_2017.csv\")\n",
    "df2=pd.read_csv(\"D:\\domestic_visitors_2018.csv\")\n",
    "df3=pd.read_csv(\"D:\\domestic_visitors_2019.csv\")"
   ]
  },
  {
   "attachments": {},
   "cell_type": "markdown",
   "metadata": {},
   "source": [
    "**Creating Helping Function**"
   ]
  },
  {
   "cell_type": "code",
   "execution_count": 22,
   "metadata": {},
   "outputs": [],
   "source": [
    "def head(n):\n",
    "    return n.head()\n",
    "\n",
    "def shape(n):\n",
    "    return n.shape\n",
    "\n",
    "def null(n):\n",
    "    return n.isnull().sum()\n",
    "\n",
    "def inf(n):\n",
    "    n.info()\n",
    "\n",
    "def dupli(n):\n",
    "    return n.duplicated().sum()\n",
    "\n",
    "def drpna(n):\n",
    "    n.dropna(inplace=True)"
   ]
  },
  {
   "attachments": {},
   "cell_type": "markdown",
   "metadata": {},
   "source": [
    "**Top 5 Rows of all Dataset** "
   ]
  },
  {
   "cell_type": "code",
   "execution_count": 23,
   "metadata": {},
   "outputs": [
    {
     "name": "stdout",
     "output_type": "stream",
     "text": [
      "2016 \n",
      "    district        date     month  year visitors\n",
      "0  Adilabad  01-01-2016   January  2016   792136\n",
      "1  Adilabad  01-02-2016  February  2016   937820\n",
      "2  Adilabad  01-03-2016     March  2016   582946\n",
      "3  Adilabad  01-04-2016     April  2016   341948\n",
      "4  Adilabad  01-05-2016       May  2016   252887\n",
      "\n",
      "\n",
      "2017 \n",
      "    district        date     month  year visitors\n",
      "0  Adilabad  01-01-2017   January  2017   318799\n",
      "1  Adilabad  01-02-2017  February  2017    83316\n",
      "2  Adilabad  01-03-2017     March  2017    27508\n",
      "3  Adilabad  01-04-2017     April  2017    13946\n",
      "4  Adilabad  01-05-2017       May  2017    11752\n",
      "\n",
      "\n",
      "2018 \n",
      "    district        date     month  year visitors\n",
      "0  Adilabad  01-01-2018   January  2018   320356\n",
      "1  Adilabad  01-02-2018  February  2018    36550\n",
      "2  Adilabad  01-03-2018     March  2018    23011\n",
      "3  Adilabad  01-04-2018     April  2018    14183\n",
      "4  Adilabad  01-05-2018       May  2018     8197\n",
      "\n",
      "\n",
      "2019 \n",
      "    district        date     month  year visitors\n",
      "0  Adilabad  01-01-2019   January  2019    25071\n",
      "1  Adilabad  01-02-2019  February  2019   406177\n",
      "2  Adilabad  01-03-2019     March  2019    14347\n",
      "3  Adilabad  01-04-2019     April  2019     9972\n",
      "4  Adilabad  01-05-2019       May  2019     6997\n"
     ]
    }
   ],
   "source": [
    "print(\"2016 \\n\",head(df))\n",
    "print(\"\\n\")\n",
    "print(\"2017 \\n\",head(df1))\n",
    "print(\"\\n\")\n",
    "print(\"2018 \\n\",head(df2))\n",
    "print(\"\\n\")\n",
    "print(\"2019 \\n\",head(df3))\n"
   ]
  },
  {
   "attachments": {},
   "cell_type": "markdown",
   "metadata": {},
   "source": [
    "**Printing Total Rows and Columns of All Dataset**"
   ]
  },
  {
   "cell_type": "code",
   "execution_count": 24,
   "metadata": {},
   "outputs": [
    {
     "name": "stdout",
     "output_type": "stream",
     "text": [
      "2016 \n",
      "\n",
      "Total Number of Rows : 372\n",
      "Total Number of Columns : 5\n",
      "\n",
      "\n",
      "2017 \n",
      "\n",
      "Total Number of Rows : 372\n",
      "Total Number of Columns : 5\n",
      "\n",
      "\n",
      "2018\n",
      "\n",
      "Total Number of Rows : 360\n",
      "Total Number of Columns : 5\n",
      "\n",
      "\n",
      "2019 \n",
      "\n",
      "Total Number of Rows : 378\n",
      "Total Number of Columns : 5\n",
      "\n",
      "\n"
     ]
    }
   ],
   "source": [
    "print(\"2016 \\n\")\n",
    "print(\"Total Number of Rows :\", df.shape[0])\n",
    "print(\"Total Number of Columns :\",df.shape[1])\n",
    "print(\"\\n\")\n",
    "\n",
    "print(\"2017 \\n\")\n",
    "print(\"Total Number of Rows :\", df1.shape[0])\n",
    "print(\"Total Number of Columns :\",df1.shape[1])\n",
    "print(\"\\n\")\n",
    "\n",
    "print(\"2018\\n\")\n",
    "print(\"Total Number of Rows :\", df2.shape[0])\n",
    "print(\"Total Number of Columns :\",df2.shape[1])\n",
    "print(\"\\n\")\n",
    "\n",
    "print(\"2019 \\n\")\n",
    "print(\"Total Number of Rows :\", df3.shape[0])\n",
    "print(\"Total Number of Columns :\",df3.shape[1])\n",
    "print(\"\\n\") "
   ]
  },
  {
   "attachments": {},
   "cell_type": "markdown",
   "metadata": {},
   "source": [
    "**Printing the Null Values of All Dataset**"
   ]
  },
  {
   "cell_type": "code",
   "execution_count": 25,
   "metadata": {},
   "outputs": [
    {
     "name": "stdout",
     "output_type": "stream",
     "text": [
      "2016 \n",
      "\n",
      "district    0\n",
      "date        0\n",
      "month       0\n",
      "year        0\n",
      "visitors    0\n",
      "dtype: int64\n",
      "\n",
      "\n",
      "2017 \n",
      "\n",
      "district    0\n",
      "date        0\n",
      "month       0\n",
      "year        0\n",
      "visitors    0\n",
      "dtype: int64\n",
      "\n",
      "\n",
      "2018 \n",
      "\n",
      "district    0\n",
      "date        0\n",
      "month       0\n",
      "year        0\n",
      "visitors    0\n",
      "dtype: int64\n",
      "\n",
      "\n",
      "2019 \n",
      "\n",
      "district    0\n",
      "date        0\n",
      "month       0\n",
      "year        0\n",
      "visitors    0\n",
      "dtype: int64\n",
      "\n",
      "\n"
     ]
    }
   ],
   "source": [
    "print(\"2016 \\n\")\n",
    "print(null(df))\n",
    "print(\"\\n\")\n",
    "\n",
    "print(\"2017 \\n\")\n",
    "print(null(df1))\n",
    "print(\"\\n\")\n",
    "\n",
    "print(\"2018 \\n\")\n",
    "print(null(df2))\n",
    "print(\"\\n\")\n",
    "\n",
    "print(\"2019 \\n\")\n",
    "print(null(df3))\n",
    "print(\"\\n\")\n"
   ]
  },
  {
   "attachments": {},
   "cell_type": "markdown",
   "metadata": {},
   "source": [
    "**Findings**\n",
    "\n",
    "We have null values in 2018 and 2019 dataset in visitors column\n",
    "\n",
    "I decided to remove it instead of impute it because its a visitors column which means that day have holiday and visitors won't visit the place."
   ]
  },
  {
   "cell_type": "code",
   "execution_count": 26,
   "metadata": {},
   "outputs": [],
   "source": [
    "df2.dropna(inplace=True)\n",
    "df3.dropna(inplace=True)"
   ]
  },
  {
   "cell_type": "code",
   "execution_count": 16,
   "metadata": {},
   "outputs": [
    {
     "name": "stdout",
     "output_type": "stream",
     "text": [
      "2018 \n",
      "\n",
      "district    0\n",
      "date        0\n",
      "month       0\n",
      "year        0\n",
      "visitors    0\n",
      "dtype: int64\n",
      "\n",
      "\n",
      "2019 \n",
      "\n",
      "district    0\n",
      "date        0\n",
      "month       0\n",
      "year        0\n",
      "visitors    0\n",
      "dtype: int64\n",
      "\n",
      "\n"
     ]
    }
   ],
   "source": [
    "\n",
    "print(\"2018 \\n\")\n",
    "print(null(df2))\n",
    "print(\"\\n\")\n",
    "\n",
    "print(\"2019 \\n\")\n",
    "print(null(df3))\n",
    "print(\"\\n\")\n"
   ]
  },
  {
   "attachments": {},
   "cell_type": "markdown",
   "metadata": {},
   "source": [
    "**Printing the Duplicates Values**"
   ]
  },
  {
   "cell_type": "code",
   "execution_count": 39,
   "metadata": {},
   "outputs": [
    {
     "name": "stdout",
     "output_type": "stream",
     "text": [
      "2016 \n",
      " 0\n",
      "2017 \n",
      " 0\n",
      "2018 \n",
      " 0\n",
      "2019 \n",
      " 0\n"
     ]
    }
   ],
   "source": [
    "print(\"2016 \\n\", dupli(df))\n",
    "print(\"2017 \\n\", dupli(df1))\n",
    "print(\"2018 \\n\", dupli(df2))\n",
    "print(\"2019 \\n\", dupli(df3))"
   ]
  },
  {
   "attachments": {},
   "cell_type": "markdown",
   "metadata": {},
   "source": [
    "**Removing the White space**"
   ]
  },
  {
   "cell_type": "code",
   "execution_count": 33,
   "metadata": {},
   "outputs": [],
   "source": [
    "df.visitors = df.visitors.str.replace(' ','')\n",
    "df1.visitors = df1.visitors.str.replace(' ','')\n",
    "df2.visitors = df2.visitors.str.replace(' ','')\n",
    "df3.visitors = df3.visitors.str.replace(' ','')"
   ]
  },
  {
   "attachments": {},
   "cell_type": "markdown",
   "metadata": {},
   "source": [
    "**Converting the dtype of column**"
   ]
  },
  {
   "cell_type": "code",
   "execution_count": 48,
   "metadata": {},
   "outputs": [],
   "source": [
    "df['date'] = pd.to_datetime(df['date'])\n",
    "df1['date'] = pd.to_datetime(df1['date'])\n",
    "df2['date'] = pd.to_datetime(df2['date'])\n",
    "df3['date'] = pd.to_datetime(df3['date'])\n",
    "\n",
    "\n",
    "df['year'] = df['year'].astype('int32')\n",
    "df1['year'] = df1['year'].astype('int32')\n",
    "df2['year'] = df2['year'].astype('int32')\n",
    "df3['year'] = df3['year'].astype('int32')"
   ]
  },
  {
   "cell_type": "code",
   "execution_count": 49,
   "metadata": {},
   "outputs": [],
   "source": [
    "df['visitors']=pd.to_numeric(df['visitors'], errors='coerce')\n",
    "df1['visitors']=pd.to_numeric(df1['visitors'], errors='coerce')\n",
    "df2['visitors']=pd.to_numeric(df2['visitors'], errors='coerce')\n",
    "df3['visitors']=pd.to_numeric(df3['visitors'], errors='coerce')"
   ]
  },
  {
   "cell_type": "code",
   "execution_count": 50,
   "metadata": {},
   "outputs": [],
   "source": [
    "# replace NaN and inf values with Zero\n",
    "\n",
    "df['visitors']= df['visitors'].replace([np.nan,np.inf],0)\n",
    "df1['visitors']= df1['visitors'].replace([np.nan,np.inf],0)\n",
    "df2['visitors']= df2['visitors'].replace([np.nan,np.inf],0)\n",
    "df3['visitors']= df3['visitors'].replace([np.nan,np.inf],0)"
   ]
  },
  {
   "cell_type": "code",
   "execution_count": 51,
   "metadata": {},
   "outputs": [],
   "source": [
    "# cast the column to int32\n",
    "\n",
    "\n",
    "df['visitors'] = df['visitors'].astype('int32')\n",
    "df1['visitors'] = df1['visitors'].astype('int32')\n",
    "df2['visitors'] = df2['visitors'].astype('int32')\n",
    "df3['visitors'] = df3['visitors'].astype('int32')\n"
   ]
  },
  {
   "cell_type": "code",
   "execution_count": 53,
   "metadata": {},
   "outputs": [
    {
     "name": "stdout",
     "output_type": "stream",
     "text": [
      "2016 \n",
      "\n",
      "<class 'pandas.core.frame.DataFrame'>\n",
      "RangeIndex: 372 entries, 0 to 371\n",
      "Data columns (total 5 columns):\n",
      " #   Column    Non-Null Count  Dtype         \n",
      "---  ------    --------------  -----         \n",
      " 0   district  372 non-null    object        \n",
      " 1   date      372 non-null    datetime64[ns]\n",
      " 2   month     372 non-null    object        \n",
      " 3   year      372 non-null    int32         \n",
      " 4   visitors  372 non-null    int32         \n",
      "dtypes: datetime64[ns](1), int32(2), object(2)\n",
      "memory usage: 11.8+ KB\n",
      "None\n",
      "\n",
      "\n",
      "2017 \n",
      "\n",
      "<class 'pandas.core.frame.DataFrame'>\n",
      "RangeIndex: 372 entries, 0 to 371\n",
      "Data columns (total 5 columns):\n",
      " #   Column    Non-Null Count  Dtype         \n",
      "---  ------    --------------  -----         \n",
      " 0   district  372 non-null    object        \n",
      " 1   date      372 non-null    datetime64[ns]\n",
      " 2   month     372 non-null    object        \n",
      " 3   year      372 non-null    int32         \n",
      " 4   visitors  372 non-null    int32         \n",
      "dtypes: datetime64[ns](1), int32(2), object(2)\n",
      "memory usage: 11.8+ KB\n",
      "None\n",
      "\n",
      "\n",
      "2018 \n",
      "\n",
      "<class 'pandas.core.frame.DataFrame'>\n",
      "Int64Index: 360 entries, 0 to 371\n",
      "Data columns (total 5 columns):\n",
      " #   Column    Non-Null Count  Dtype         \n",
      "---  ------    --------------  -----         \n",
      " 0   district  360 non-null    object        \n",
      " 1   date      360 non-null    datetime64[ns]\n",
      " 2   month     360 non-null    object        \n",
      " 3   year      360 non-null    int32         \n",
      " 4   visitors  360 non-null    int32         \n",
      "dtypes: datetime64[ns](1), int32(2), object(2)\n",
      "memory usage: 14.1+ KB\n",
      "None\n",
      "\n",
      "\n",
      "2019 \n",
      "\n",
      "<class 'pandas.core.frame.DataFrame'>\n",
      "Int64Index: 378 entries, 0 to 395\n",
      "Data columns (total 5 columns):\n",
      " #   Column    Non-Null Count  Dtype         \n",
      "---  ------    --------------  -----         \n",
      " 0   district  378 non-null    object        \n",
      " 1   date      378 non-null    datetime64[ns]\n",
      " 2   month     378 non-null    object        \n",
      " 3   year      378 non-null    int32         \n",
      " 4   visitors  378 non-null    int32         \n",
      "dtypes: datetime64[ns](1), int32(2), object(2)\n",
      "memory usage: 14.8+ KB\n",
      "None\n",
      "\n",
      "\n"
     ]
    }
   ],
   "source": [
    "# Printing the information of Dataset\n",
    "\n",
    "\n",
    "print(\"2016 \\n\")\n",
    "print(inf(df))\n",
    "print(\"\\n\")\n",
    "\n",
    "print(\"2017 \\n\")\n",
    "print(inf(df1))\n",
    "print(\"\\n\")\n",
    "\n",
    "print(\"2018 \\n\")\n",
    "print(inf(df2))\n",
    "print(\"\\n\")\n",
    "\n",
    "print(\"2019 \\n\")\n",
    "print(inf(df3))\n",
    "print(\"\\n\")\n",
    "\n"
   ]
  },
  {
   "attachments": {},
   "cell_type": "markdown",
   "metadata": {},
   "source": [
    "**Merging all Dataset into one Dataset named Domestic_Vistiors**"
   ]
  },
  {
   "cell_type": "code",
   "execution_count": 55,
   "metadata": {},
   "outputs": [],
   "source": [
    "Domestic_Visitors = pd.concat([df,df1,df2,df3], axis=0)"
   ]
  },
  {
   "cell_type": "code",
   "execution_count": 56,
   "metadata": {},
   "outputs": [
    {
     "data": {
      "text/html": [
       "<div>\n",
       "<style scoped>\n",
       "    .dataframe tbody tr th:only-of-type {\n",
       "        vertical-align: middle;\n",
       "    }\n",
       "\n",
       "    .dataframe tbody tr th {\n",
       "        vertical-align: top;\n",
       "    }\n",
       "\n",
       "    .dataframe thead th {\n",
       "        text-align: right;\n",
       "    }\n",
       "</style>\n",
       "<table border=\"1\" class=\"dataframe\">\n",
       "  <thead>\n",
       "    <tr style=\"text-align: right;\">\n",
       "      <th></th>\n",
       "      <th>district</th>\n",
       "      <th>date</th>\n",
       "      <th>month</th>\n",
       "      <th>year</th>\n",
       "      <th>visitors</th>\n",
       "    </tr>\n",
       "  </thead>\n",
       "  <tbody>\n",
       "    <tr>\n",
       "      <th>0</th>\n",
       "      <td>Adilabad</td>\n",
       "      <td>2016-01-01</td>\n",
       "      <td>January</td>\n",
       "      <td>2016</td>\n",
       "      <td>792136</td>\n",
       "    </tr>\n",
       "    <tr>\n",
       "      <th>1</th>\n",
       "      <td>Adilabad</td>\n",
       "      <td>2016-01-02</td>\n",
       "      <td>February</td>\n",
       "      <td>2016</td>\n",
       "      <td>937820</td>\n",
       "    </tr>\n",
       "    <tr>\n",
       "      <th>2</th>\n",
       "      <td>Adilabad</td>\n",
       "      <td>2016-01-03</td>\n",
       "      <td>March</td>\n",
       "      <td>2016</td>\n",
       "      <td>582946</td>\n",
       "    </tr>\n",
       "    <tr>\n",
       "      <th>3</th>\n",
       "      <td>Adilabad</td>\n",
       "      <td>2016-01-04</td>\n",
       "      <td>April</td>\n",
       "      <td>2016</td>\n",
       "      <td>341948</td>\n",
       "    </tr>\n",
       "    <tr>\n",
       "      <th>4</th>\n",
       "      <td>Adilabad</td>\n",
       "      <td>2016-01-05</td>\n",
       "      <td>May</td>\n",
       "      <td>2016</td>\n",
       "      <td>252887</td>\n",
       "    </tr>\n",
       "  </tbody>\n",
       "</table>\n",
       "</div>"
      ],
      "text/plain": [
       "   district       date     month  year  visitors\n",
       "0  Adilabad 2016-01-01   January  2016    792136\n",
       "1  Adilabad 2016-01-02  February  2016    937820\n",
       "2  Adilabad 2016-01-03     March  2016    582946\n",
       "3  Adilabad 2016-01-04     April  2016    341948\n",
       "4  Adilabad 2016-01-05       May  2016    252887"
      ]
     },
     "execution_count": 56,
     "metadata": {},
     "output_type": "execute_result"
    }
   ],
   "source": [
    "# Printing the Top 5 Rows of Dataset\n",
    "\n",
    "head(Domestic_Visitors)"
   ]
  },
  {
   "cell_type": "code",
   "execution_count": 58,
   "metadata": {},
   "outputs": [
    {
     "data": {
      "text/html": [
       "<div>\n",
       "<style scoped>\n",
       "    .dataframe tbody tr th:only-of-type {\n",
       "        vertical-align: middle;\n",
       "    }\n",
       "\n",
       "    .dataframe tbody tr th {\n",
       "        vertical-align: top;\n",
       "    }\n",
       "\n",
       "    .dataframe thead th {\n",
       "        text-align: right;\n",
       "    }\n",
       "</style>\n",
       "<table border=\"1\" class=\"dataframe\">\n",
       "  <thead>\n",
       "    <tr style=\"text-align: right;\">\n",
       "      <th></th>\n",
       "      <th>district</th>\n",
       "      <th>date</th>\n",
       "      <th>month</th>\n",
       "      <th>year</th>\n",
       "      <th>visitors</th>\n",
       "    </tr>\n",
       "  </thead>\n",
       "  <tbody>\n",
       "    <tr>\n",
       "      <th>391</th>\n",
       "      <td>Yadadri Bhongir</td>\n",
       "      <td>2019-01-08</td>\n",
       "      <td>August</td>\n",
       "      <td>2019</td>\n",
       "      <td>389010</td>\n",
       "    </tr>\n",
       "    <tr>\n",
       "      <th>392</th>\n",
       "      <td>Yadadri Bhongir</td>\n",
       "      <td>2019-01-09</td>\n",
       "      <td>September</td>\n",
       "      <td>2019</td>\n",
       "      <td>366862</td>\n",
       "    </tr>\n",
       "    <tr>\n",
       "      <th>393</th>\n",
       "      <td>Yadadri Bhongir</td>\n",
       "      <td>2019-01-10</td>\n",
       "      <td>October</td>\n",
       "      <td>2019</td>\n",
       "      <td>381860</td>\n",
       "    </tr>\n",
       "    <tr>\n",
       "      <th>394</th>\n",
       "      <td>Yadadri Bhongir</td>\n",
       "      <td>2019-01-11</td>\n",
       "      <td>November</td>\n",
       "      <td>2019</td>\n",
       "      <td>365990</td>\n",
       "    </tr>\n",
       "    <tr>\n",
       "      <th>395</th>\n",
       "      <td>Yadadri Bhongir</td>\n",
       "      <td>2019-01-12</td>\n",
       "      <td>December</td>\n",
       "      <td>2019</td>\n",
       "      <td>477635</td>\n",
       "    </tr>\n",
       "  </tbody>\n",
       "</table>\n",
       "</div>"
      ],
      "text/plain": [
       "            district       date      month  year  visitors\n",
       "391  Yadadri Bhongir 2019-01-08     August  2019    389010\n",
       "392  Yadadri Bhongir 2019-01-09  September  2019    366862\n",
       "393  Yadadri Bhongir 2019-01-10    October  2019    381860\n",
       "394  Yadadri Bhongir 2019-01-11   November  2019    365990\n",
       "395  Yadadri Bhongir 2019-01-12   December  2019    477635"
      ]
     },
     "execution_count": 58,
     "metadata": {},
     "output_type": "execute_result"
    }
   ],
   "source": [
    "# Printing the Last 5 Rows of Dataset\n",
    "\n",
    "Domestic_Visitors.tail()\n"
   ]
  },
  {
   "cell_type": "code",
   "execution_count": 59,
   "metadata": {},
   "outputs": [
    {
     "data": {
      "text/html": [
       "<div>\n",
       "<style scoped>\n",
       "    .dataframe tbody tr th:only-of-type {\n",
       "        vertical-align: middle;\n",
       "    }\n",
       "\n",
       "    .dataframe tbody tr th {\n",
       "        vertical-align: top;\n",
       "    }\n",
       "\n",
       "    .dataframe thead th {\n",
       "        text-align: right;\n",
       "    }\n",
       "</style>\n",
       "<table border=\"1\" class=\"dataframe\">\n",
       "  <thead>\n",
       "    <tr style=\"text-align: right;\">\n",
       "      <th></th>\n",
       "      <th>district</th>\n",
       "      <th>date</th>\n",
       "      <th>month</th>\n",
       "      <th>year</th>\n",
       "      <th>visitors</th>\n",
       "    </tr>\n",
       "  </thead>\n",
       "  <tbody>\n",
       "    <tr>\n",
       "      <th>235</th>\n",
       "      <td>Nizamabad</td>\n",
       "      <td>2017-01-08</td>\n",
       "      <td>August</td>\n",
       "      <td>2017</td>\n",
       "      <td>1583</td>\n",
       "    </tr>\n",
       "    <tr>\n",
       "      <th>110</th>\n",
       "      <td>Khammam</td>\n",
       "      <td>2017-01-03</td>\n",
       "      <td>March</td>\n",
       "      <td>2017</td>\n",
       "      <td>101878</td>\n",
       "    </tr>\n",
       "    <tr>\n",
       "      <th>275</th>\n",
       "      <td>Ranga Reddy</td>\n",
       "      <td>2017-01-12</td>\n",
       "      <td>December</td>\n",
       "      <td>2017</td>\n",
       "      <td>0</td>\n",
       "    </tr>\n",
       "    <tr>\n",
       "      <th>331</th>\n",
       "      <td>Wanaparthy</td>\n",
       "      <td>2018-01-08</td>\n",
       "      <td>August</td>\n",
       "      <td>2018</td>\n",
       "      <td>35860</td>\n",
       "    </tr>\n",
       "    <tr>\n",
       "      <th>335</th>\n",
       "      <td>Wanaparthy</td>\n",
       "      <td>2018-01-12</td>\n",
       "      <td>December</td>\n",
       "      <td>2018</td>\n",
       "      <td>20556</td>\n",
       "    </tr>\n",
       "    <tr>\n",
       "      <th>285</th>\n",
       "      <td>Sangareddy</td>\n",
       "      <td>2017-01-10</td>\n",
       "      <td>October</td>\n",
       "      <td>2017</td>\n",
       "      <td>232000</td>\n",
       "    </tr>\n",
       "    <tr>\n",
       "      <th>227</th>\n",
       "      <td>Nalgonda</td>\n",
       "      <td>2019-01-12</td>\n",
       "      <td>December</td>\n",
       "      <td>2019</td>\n",
       "      <td>13419</td>\n",
       "    </tr>\n",
       "    <tr>\n",
       "      <th>240</th>\n",
       "      <td>Peddapalli</td>\n",
       "      <td>2017-01-01</td>\n",
       "      <td>January</td>\n",
       "      <td>2017</td>\n",
       "      <td>1345</td>\n",
       "    </tr>\n",
       "    <tr>\n",
       "      <th>221</th>\n",
       "      <td>Nirmal</td>\n",
       "      <td>2017-01-06</td>\n",
       "      <td>June</td>\n",
       "      <td>2017</td>\n",
       "      <td>340359</td>\n",
       "    </tr>\n",
       "    <tr>\n",
       "      <th>320</th>\n",
       "      <td>Vikarabad</td>\n",
       "      <td>2016-01-09</td>\n",
       "      <td>September</td>\n",
       "      <td>2016</td>\n",
       "      <td>0</td>\n",
       "    </tr>\n",
       "  </tbody>\n",
       "</table>\n",
       "</div>"
      ],
      "text/plain": [
       "        district       date      month  year  visitors\n",
       "235    Nizamabad 2017-01-08     August  2017      1583\n",
       "110      Khammam 2017-01-03      March  2017    101878\n",
       "275  Ranga Reddy 2017-01-12   December  2017         0\n",
       "331  Wanaparthy  2018-01-08     August  2018     35860\n",
       "335  Wanaparthy  2018-01-12   December  2018     20556\n",
       "285  Sangareddy  2017-01-10    October  2017    232000\n",
       "227     Nalgonda 2019-01-12   December  2019     13419\n",
       "240   Peddapalli 2017-01-01    January  2017      1345\n",
       "221       Nirmal 2017-01-06       June  2017    340359\n",
       "320    Vikarabad 2016-01-09  September  2016         0"
      ]
     },
     "execution_count": 59,
     "metadata": {},
     "output_type": "execute_result"
    }
   ],
   "source": [
    "# Printing the Random 10 Rows of Dataset\n",
    "\n",
    "Domestic_Visitors.sample(10)\n"
   ]
  },
  {
   "cell_type": "code",
   "execution_count": 60,
   "metadata": {},
   "outputs": [
    {
     "name": "stdout",
     "output_type": "stream",
     "text": [
      "Total Number of Rows : 1482\n",
      "Total Number of Columns : 5\n"
     ]
    }
   ],
   "source": [
    "# Printing Total Number of Rows and Columns\n",
    "\n",
    "print(\"Total Number of Rows :\", Domestic_Visitors.shape[0])\n",
    "print(\"Total Number of Columns :\", Domestic_Visitors.shape[1])"
   ]
  },
  {
   "cell_type": "code",
   "execution_count": 61,
   "metadata": {},
   "outputs": [
    {
     "data": {
      "text/plain": [
       "district    0\n",
       "date        0\n",
       "month       0\n",
       "year        0\n",
       "visitors    0\n",
       "dtype: int64"
      ]
     },
     "execution_count": 61,
     "metadata": {},
     "output_type": "execute_result"
    }
   ],
   "source": [
    "# Printing the Null values of the Dataset\n",
    "\n",
    "null(Domestic_Visitors)\n"
   ]
  },
  {
   "cell_type": "code",
   "execution_count": 62,
   "metadata": {},
   "outputs": [
    {
     "data": {
      "text/plain": [
       "0"
      ]
     },
     "execution_count": 62,
     "metadata": {},
     "output_type": "execute_result"
    }
   ],
   "source": [
    "# Printing the Duplicate values of the Dataset\n",
    "\n",
    "dupli(Domestic_Visitors)"
   ]
  },
  {
   "cell_type": "code",
   "execution_count": 63,
   "metadata": {},
   "outputs": [],
   "source": [
    "# Save the Domestic_Visitors.csv File\n",
    "\n",
    "Domestic_Visitors.to_csv(\"domestic_visitors.csv\", index=False)"
   ]
  },
  {
   "cell_type": "code",
   "execution_count": 64,
   "metadata": {},
   "outputs": [
    {
     "data": {
      "text/html": [
       "<div>\n",
       "<style scoped>\n",
       "    .dataframe tbody tr th:only-of-type {\n",
       "        vertical-align: middle;\n",
       "    }\n",
       "\n",
       "    .dataframe tbody tr th {\n",
       "        vertical-align: top;\n",
       "    }\n",
       "\n",
       "    .dataframe thead th {\n",
       "        text-align: right;\n",
       "    }\n",
       "</style>\n",
       "<table border=\"1\" class=\"dataframe\">\n",
       "  <thead>\n",
       "    <tr style=\"text-align: right;\">\n",
       "      <th></th>\n",
       "      <th>district</th>\n",
       "      <th>date</th>\n",
       "      <th>month</th>\n",
       "      <th>year</th>\n",
       "      <th>visitors</th>\n",
       "    </tr>\n",
       "  </thead>\n",
       "  <tbody>\n",
       "    <tr>\n",
       "      <th>0</th>\n",
       "      <td>Adilabad</td>\n",
       "      <td>2016-01-01</td>\n",
       "      <td>January</td>\n",
       "      <td>2016</td>\n",
       "      <td>792136</td>\n",
       "    </tr>\n",
       "    <tr>\n",
       "      <th>1</th>\n",
       "      <td>Adilabad</td>\n",
       "      <td>2016-01-02</td>\n",
       "      <td>February</td>\n",
       "      <td>2016</td>\n",
       "      <td>937820</td>\n",
       "    </tr>\n",
       "    <tr>\n",
       "      <th>2</th>\n",
       "      <td>Adilabad</td>\n",
       "      <td>2016-01-03</td>\n",
       "      <td>March</td>\n",
       "      <td>2016</td>\n",
       "      <td>582946</td>\n",
       "    </tr>\n",
       "    <tr>\n",
       "      <th>3</th>\n",
       "      <td>Adilabad</td>\n",
       "      <td>2016-01-04</td>\n",
       "      <td>April</td>\n",
       "      <td>2016</td>\n",
       "      <td>341948</td>\n",
       "    </tr>\n",
       "    <tr>\n",
       "      <th>4</th>\n",
       "      <td>Adilabad</td>\n",
       "      <td>2016-01-05</td>\n",
       "      <td>May</td>\n",
       "      <td>2016</td>\n",
       "      <td>252887</td>\n",
       "    </tr>\n",
       "  </tbody>\n",
       "</table>\n",
       "</div>"
      ],
      "text/plain": [
       "   district        date     month  year  visitors\n",
       "0  Adilabad  2016-01-01   January  2016    792136\n",
       "1  Adilabad  2016-01-02  February  2016    937820\n",
       "2  Adilabad  2016-01-03     March  2016    582946\n",
       "3  Adilabad  2016-01-04     April  2016    341948\n",
       "4  Adilabad  2016-01-05       May  2016    252887"
      ]
     },
     "execution_count": 64,
     "metadata": {},
     "output_type": "execute_result"
    }
   ],
   "source": [
    "data = pd.read_csv(\"domestic_visitors.csv\")\n",
    "\n",
    "data.head()"
   ]
  },
  {
   "cell_type": "code",
   "execution_count": 65,
   "metadata": {},
   "outputs": [
    {
     "data": {
      "text/plain": [
       "(1482, 5)"
      ]
     },
     "execution_count": 65,
     "metadata": {},
     "output_type": "execute_result"
    }
   ],
   "source": [
    "data.shape"
   ]
  },
  {
   "cell_type": "code",
   "execution_count": 66,
   "metadata": {},
   "outputs": [
    {
     "data": {
      "text/plain": [
       "district    0\n",
       "date        0\n",
       "month       0\n",
       "year        0\n",
       "visitors    0\n",
       "dtype: int64"
      ]
     },
     "execution_count": 66,
     "metadata": {},
     "output_type": "execute_result"
    }
   ],
   "source": [
    "data.isnull().sum()"
   ]
  },
  {
   "cell_type": "code",
   "execution_count": null,
   "metadata": {},
   "outputs": [],
   "source": []
  }
 ],
 "metadata": {
  "kernelspec": {
   "display_name": "base",
   "language": "python",
   "name": "python3"
  },
  "language_info": {
   "codemirror_mode": {
    "name": "ipython",
    "version": 3
   },
   "file_extension": ".py",
   "mimetype": "text/x-python",
   "name": "python",
   "nbconvert_exporter": "python",
   "pygments_lexer": "ipython3",
   "version": "3.10.9"
  },
  "orig_nbformat": 4
 },
 "nbformat": 4,
 "nbformat_minor": 2
}
