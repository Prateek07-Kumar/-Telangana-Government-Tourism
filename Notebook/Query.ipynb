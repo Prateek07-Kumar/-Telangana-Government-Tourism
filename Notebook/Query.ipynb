{
 "cells": [
  {
   "cell_type": "code",
   "execution_count": 2,
   "metadata": {},
   "outputs": [],
   "source": [
    "# Importing the libraries\n",
    "\n",
    "import pandas as pd\n",
    "import numpy as np\n",
    "import matplotlib.pyplot as plt\n",
    "import seaborn as sns\n",
    "\n",
    "\n",
    "import warnings\n",
    "warnings.filterwarnings('ignore')"
   ]
  },
  {
   "cell_type": "code",
   "execution_count": 3,
   "metadata": {},
   "outputs": [],
   "source": [
    "Domestic = pd.read_csv(r\"D:\\Dataset\\-Telangana-Government-Tourism\\Data\\domestic_visitors.csv\")\n",
    "Foreign = pd.read_csv(r\"D:\\Dataset\\-Telangana-Government-Tourism\\Data\\foreign_visitors.csv\")"
   ]
  },
  {
   "cell_type": "code",
   "execution_count": 4,
   "metadata": {},
   "outputs": [
    {
     "data": {
      "text/html": [
       "<div>\n",
       "<style scoped>\n",
       "    .dataframe tbody tr th:only-of-type {\n",
       "        vertical-align: middle;\n",
       "    }\n",
       "\n",
       "    .dataframe tbody tr th {\n",
       "        vertical-align: top;\n",
       "    }\n",
       "\n",
       "    .dataframe thead th {\n",
       "        text-align: right;\n",
       "    }\n",
       "</style>\n",
       "<table border=\"1\" class=\"dataframe\">\n",
       "  <thead>\n",
       "    <tr style=\"text-align: right;\">\n",
       "      <th></th>\n",
       "      <th>district</th>\n",
       "      <th>date</th>\n",
       "      <th>month</th>\n",
       "      <th>year</th>\n",
       "      <th>visitors</th>\n",
       "    </tr>\n",
       "  </thead>\n",
       "  <tbody>\n",
       "    <tr>\n",
       "      <th>0</th>\n",
       "      <td>Adilabad</td>\n",
       "      <td>2016-01-01</td>\n",
       "      <td>January</td>\n",
       "      <td>2016</td>\n",
       "      <td>792136</td>\n",
       "    </tr>\n",
       "    <tr>\n",
       "      <th>1</th>\n",
       "      <td>Adilabad</td>\n",
       "      <td>2016-01-02</td>\n",
       "      <td>February</td>\n",
       "      <td>2016</td>\n",
       "      <td>937820</td>\n",
       "    </tr>\n",
       "    <tr>\n",
       "      <th>2</th>\n",
       "      <td>Adilabad</td>\n",
       "      <td>2016-01-03</td>\n",
       "      <td>March</td>\n",
       "      <td>2016</td>\n",
       "      <td>582946</td>\n",
       "    </tr>\n",
       "    <tr>\n",
       "      <th>3</th>\n",
       "      <td>Adilabad</td>\n",
       "      <td>2016-01-04</td>\n",
       "      <td>April</td>\n",
       "      <td>2016</td>\n",
       "      <td>341948</td>\n",
       "    </tr>\n",
       "    <tr>\n",
       "      <th>4</th>\n",
       "      <td>Adilabad</td>\n",
       "      <td>2016-01-05</td>\n",
       "      <td>May</td>\n",
       "      <td>2016</td>\n",
       "      <td>252887</td>\n",
       "    </tr>\n",
       "  </tbody>\n",
       "</table>\n",
       "</div>"
      ],
      "text/plain": [
       "   district        date     month  year  visitors\n",
       "0  Adilabad  2016-01-01   January  2016    792136\n",
       "1  Adilabad  2016-01-02  February  2016    937820\n",
       "2  Adilabad  2016-01-03     March  2016    582946\n",
       "3  Adilabad  2016-01-04     April  2016    341948\n",
       "4  Adilabad  2016-01-05       May  2016    252887"
      ]
     },
     "execution_count": 4,
     "metadata": {},
     "output_type": "execute_result"
    }
   ],
   "source": [
    "# Printing top 5 Rows of Domestic Dataset\n",
    "\n",
    "Domestic.head()"
   ]
  },
  {
   "cell_type": "code",
   "execution_count": 5,
   "metadata": {},
   "outputs": [
    {
     "data": {
      "text/html": [
       "<div>\n",
       "<style scoped>\n",
       "    .dataframe tbody tr th:only-of-type {\n",
       "        vertical-align: middle;\n",
       "    }\n",
       "\n",
       "    .dataframe tbody tr th {\n",
       "        vertical-align: top;\n",
       "    }\n",
       "\n",
       "    .dataframe thead th {\n",
       "        text-align: right;\n",
       "    }\n",
       "</style>\n",
       "<table border=\"1\" class=\"dataframe\">\n",
       "  <thead>\n",
       "    <tr style=\"text-align: right;\">\n",
       "      <th></th>\n",
       "      <th>district</th>\n",
       "      <th>date</th>\n",
       "      <th>month</th>\n",
       "      <th>year</th>\n",
       "      <th>visitors</th>\n",
       "    </tr>\n",
       "  </thead>\n",
       "  <tbody>\n",
       "    <tr>\n",
       "      <th>0</th>\n",
       "      <td>Adilabad</td>\n",
       "      <td>2016-01-01</td>\n",
       "      <td>January</td>\n",
       "      <td>2016</td>\n",
       "      <td>2</td>\n",
       "    </tr>\n",
       "    <tr>\n",
       "      <th>1</th>\n",
       "      <td>Adilabad</td>\n",
       "      <td>2016-01-02</td>\n",
       "      <td>February</td>\n",
       "      <td>2016</td>\n",
       "      <td>0</td>\n",
       "    </tr>\n",
       "    <tr>\n",
       "      <th>2</th>\n",
       "      <td>Adilabad</td>\n",
       "      <td>2016-01-03</td>\n",
       "      <td>March</td>\n",
       "      <td>2016</td>\n",
       "      <td>2</td>\n",
       "    </tr>\n",
       "    <tr>\n",
       "      <th>3</th>\n",
       "      <td>Adilabad</td>\n",
       "      <td>2016-01-04</td>\n",
       "      <td>April</td>\n",
       "      <td>2016</td>\n",
       "      <td>0</td>\n",
       "    </tr>\n",
       "    <tr>\n",
       "      <th>4</th>\n",
       "      <td>Adilabad</td>\n",
       "      <td>2016-01-05</td>\n",
       "      <td>May</td>\n",
       "      <td>2016</td>\n",
       "      <td>0</td>\n",
       "    </tr>\n",
       "  </tbody>\n",
       "</table>\n",
       "</div>"
      ],
      "text/plain": [
       "   district        date     month  year  visitors\n",
       "0  Adilabad  2016-01-01   January  2016         2\n",
       "1  Adilabad  2016-01-02  February  2016         0\n",
       "2  Adilabad  2016-01-03     March  2016         2\n",
       "3  Adilabad  2016-01-04     April  2016         0\n",
       "4  Adilabad  2016-01-05       May  2016         0"
      ]
     },
     "execution_count": 5,
     "metadata": {},
     "output_type": "execute_result"
    }
   ],
   "source": [
    "# Printing top 5 Rows of Foreign Dataset\n",
    "\n",
    "Foreign.head()"
   ]
  },
  {
   "cell_type": "code",
   "execution_count": 6,
   "metadata": {},
   "outputs": [
    {
     "name": "stdout",
     "output_type": "stream",
     "text": [
      "Domestic Dataset total number of rows and columns : 1482\n",
      "Foreign Dataset total number of rows and columns : 5\n"
     ]
    }
   ],
   "source": [
    "print(\"Domestic Dataset total number of rows and columns :\", Domestic.shape[0])\n",
    "print(\"Foreign Dataset total number of rows and columns :\", Foreign.shape[1])"
   ]
  },
  {
   "cell_type": "code",
   "execution_count": 7,
   "metadata": {},
   "outputs": [
    {
     "data": {
      "text/plain": [
       "district    0\n",
       "date        0\n",
       "month       0\n",
       "year        0\n",
       "visitors    0\n",
       "dtype: int64"
      ]
     },
     "execution_count": 7,
     "metadata": {},
     "output_type": "execute_result"
    }
   ],
   "source": [
    "# Checking the null value of Domestic Dataset\n",
    "\n",
    "Domestic.isnull().sum()"
   ]
  },
  {
   "cell_type": "code",
   "execution_count": 8,
   "metadata": {},
   "outputs": [
    {
     "data": {
      "text/plain": [
       "district    0\n",
       "date        0\n",
       "month       0\n",
       "year        0\n",
       "visitors    0\n",
       "dtype: int64"
      ]
     },
     "execution_count": 8,
     "metadata": {},
     "output_type": "execute_result"
    }
   ],
   "source": [
    "# Checking the null value of Foreign Dataset\n",
    "\n",
    "Foreign.isnull().sum()"
   ]
  },
  {
   "cell_type": "code",
   "execution_count": 9,
   "metadata": {},
   "outputs": [
    {
     "data": {
      "text/plain": [
       "0"
      ]
     },
     "execution_count": 9,
     "metadata": {},
     "output_type": "execute_result"
    }
   ],
   "source": [
    "# Checking the Duplicate value of Domestic Dataset\n",
    "\n",
    "Domestic.duplicated().sum()"
   ]
  },
  {
   "cell_type": "code",
   "execution_count": 10,
   "metadata": {},
   "outputs": [
    {
     "data": {
      "text/plain": [
       "0"
      ]
     },
     "execution_count": 10,
     "metadata": {},
     "output_type": "execute_result"
    }
   ],
   "source": [
    "# Checking the Duplicated value of Foreign Dataset\n",
    "\n",
    "Foreign.duplicated().sum()"
   ]
  },
  {
   "cell_type": "code",
   "execution_count": 11,
   "metadata": {},
   "outputs": [],
   "source": [
    "Foreign.rename(columns={'visitors': 'foriegn_visitors'}, inplace=True)"
   ]
  },
  {
   "cell_type": "code",
   "execution_count": 12,
   "metadata": {},
   "outputs": [],
   "source": [
    "Domestic.rename(columns={'visitors': 'domestic_visitors'}, inplace=True)"
   ]
  },
  {
   "cell_type": "code",
   "execution_count": 13,
   "metadata": {},
   "outputs": [],
   "source": [
    "df = pd.concat([Foreign, Domestic['domestic_visitors']], axis=1)"
   ]
  },
  {
   "cell_type": "code",
   "execution_count": 14,
   "metadata": {},
   "outputs": [
    {
     "data": {
      "text/plain": [
       "district              0\n",
       "date                  0\n",
       "month                 0\n",
       "year                  0\n",
       "foriegn_visitors      0\n",
       "domestic_visitors    30\n",
       "dtype: int64"
      ]
     },
     "execution_count": 14,
     "metadata": {},
     "output_type": "execute_result"
    }
   ],
   "source": [
    "df.isnull().sum()"
   ]
  },
  {
   "cell_type": "code",
   "execution_count": 15,
   "metadata": {},
   "outputs": [],
   "source": [
    "df.fillna(0, inplace=True)"
   ]
  },
  {
   "cell_type": "code",
   "execution_count": 16,
   "metadata": {},
   "outputs": [
    {
     "data": {
      "text/plain": [
       "district             0\n",
       "date                 0\n",
       "month                0\n",
       "year                 0\n",
       "foriegn_visitors     0\n",
       "domestic_visitors    0\n",
       "dtype: int64"
      ]
     },
     "execution_count": 16,
     "metadata": {},
     "output_type": "execute_result"
    }
   ],
   "source": [
    "df.isnull().sum()"
   ]
  },
  {
   "cell_type": "code",
   "execution_count": 17,
   "metadata": {},
   "outputs": [
    {
     "data": {
      "text/plain": [
       "(1512, 6)"
      ]
     },
     "execution_count": 17,
     "metadata": {},
     "output_type": "execute_result"
    }
   ],
   "source": [
    "df.shape"
   ]
  },
  {
   "cell_type": "code",
   "execution_count": 18,
   "metadata": {},
   "outputs": [],
   "source": [
    "df.domestic_visitors = df.domestic_visitors.astype(int)\n",
    "df.year = df.year.astype(int)"
   ]
  },
  {
   "cell_type": "code",
   "execution_count": 19,
   "metadata": {},
   "outputs": [],
   "source": [
    "df['total_visitors'] = df['domestic_visitors'] + df['foriegn_visitors']"
   ]
  },
  {
   "cell_type": "code",
   "execution_count": 20,
   "metadata": {},
   "outputs": [
    {
     "data": {
      "text/html": [
       "<div>\n",
       "<style scoped>\n",
       "    .dataframe tbody tr th:only-of-type {\n",
       "        vertical-align: middle;\n",
       "    }\n",
       "\n",
       "    .dataframe tbody tr th {\n",
       "        vertical-align: top;\n",
       "    }\n",
       "\n",
       "    .dataframe thead th {\n",
       "        text-align: right;\n",
       "    }\n",
       "</style>\n",
       "<table border=\"1\" class=\"dataframe\">\n",
       "  <thead>\n",
       "    <tr style=\"text-align: right;\">\n",
       "      <th></th>\n",
       "      <th>district</th>\n",
       "      <th>date</th>\n",
       "      <th>month</th>\n",
       "      <th>year</th>\n",
       "      <th>foriegn_visitors</th>\n",
       "      <th>domestic_visitors</th>\n",
       "      <th>total_visitors</th>\n",
       "    </tr>\n",
       "  </thead>\n",
       "  <tbody>\n",
       "    <tr>\n",
       "      <th>0</th>\n",
       "      <td>Adilabad</td>\n",
       "      <td>2016-01-01</td>\n",
       "      <td>January</td>\n",
       "      <td>2016</td>\n",
       "      <td>2</td>\n",
       "      <td>792136</td>\n",
       "      <td>792138</td>\n",
       "    </tr>\n",
       "    <tr>\n",
       "      <th>1</th>\n",
       "      <td>Adilabad</td>\n",
       "      <td>2016-01-02</td>\n",
       "      <td>February</td>\n",
       "      <td>2016</td>\n",
       "      <td>0</td>\n",
       "      <td>937820</td>\n",
       "      <td>937820</td>\n",
       "    </tr>\n",
       "    <tr>\n",
       "      <th>2</th>\n",
       "      <td>Adilabad</td>\n",
       "      <td>2016-01-03</td>\n",
       "      <td>March</td>\n",
       "      <td>2016</td>\n",
       "      <td>2</td>\n",
       "      <td>582946</td>\n",
       "      <td>582948</td>\n",
       "    </tr>\n",
       "    <tr>\n",
       "      <th>3</th>\n",
       "      <td>Adilabad</td>\n",
       "      <td>2016-01-04</td>\n",
       "      <td>April</td>\n",
       "      <td>2016</td>\n",
       "      <td>0</td>\n",
       "      <td>341948</td>\n",
       "      <td>341948</td>\n",
       "    </tr>\n",
       "    <tr>\n",
       "      <th>4</th>\n",
       "      <td>Adilabad</td>\n",
       "      <td>2016-01-05</td>\n",
       "      <td>May</td>\n",
       "      <td>2016</td>\n",
       "      <td>0</td>\n",
       "      <td>252887</td>\n",
       "      <td>252887</td>\n",
       "    </tr>\n",
       "  </tbody>\n",
       "</table>\n",
       "</div>"
      ],
      "text/plain": [
       "   district        date     month  year  foriegn_visitors  domestic_visitors  \\\n",
       "0  Adilabad  2016-01-01   January  2016                 2             792136   \n",
       "1  Adilabad  2016-01-02  February  2016                 0             937820   \n",
       "2  Adilabad  2016-01-03     March  2016                 2             582946   \n",
       "3  Adilabad  2016-01-04     April  2016                 0             341948   \n",
       "4  Adilabad  2016-01-05       May  2016                 0             252887   \n",
       "\n",
       "   total_visitors  \n",
       "0          792138  \n",
       "1          937820  \n",
       "2          582948  \n",
       "3          341948  \n",
       "4          252887  "
      ]
     },
     "execution_count": 20,
     "metadata": {},
     "output_type": "execute_result"
    }
   ],
   "source": [
    "df.head()"
   ]
  },
  {
   "cell_type": "code",
   "execution_count": 21,
   "metadata": {},
   "outputs": [
    {
     "data": {
      "text/html": [
       "<div>\n",
       "<style scoped>\n",
       "    .dataframe tbody tr th:only-of-type {\n",
       "        vertical-align: middle;\n",
       "    }\n",
       "\n",
       "    .dataframe tbody tr th {\n",
       "        vertical-align: top;\n",
       "    }\n",
       "\n",
       "    .dataframe thead th {\n",
       "        text-align: right;\n",
       "    }\n",
       "</style>\n",
       "<table border=\"1\" class=\"dataframe\">\n",
       "  <thead>\n",
       "    <tr style=\"text-align: right;\">\n",
       "      <th></th>\n",
       "      <th>district</th>\n",
       "      <th>date</th>\n",
       "      <th>month</th>\n",
       "      <th>year</th>\n",
       "      <th>foriegn_visitors</th>\n",
       "      <th>domestic_visitors</th>\n",
       "      <th>total_visitors</th>\n",
       "    </tr>\n",
       "  </thead>\n",
       "  <tbody>\n",
       "    <tr>\n",
       "      <th>0</th>\n",
       "      <td>Adilabad</td>\n",
       "      <td>2016-01-01</td>\n",
       "      <td>January</td>\n",
       "      <td>2016</td>\n",
       "      <td>2</td>\n",
       "      <td>792136</td>\n",
       "      <td>792138</td>\n",
       "    </tr>\n",
       "    <tr>\n",
       "      <th>1</th>\n",
       "      <td>Adilabad</td>\n",
       "      <td>2016-01-02</td>\n",
       "      <td>February</td>\n",
       "      <td>2016</td>\n",
       "      <td>0</td>\n",
       "      <td>937820</td>\n",
       "      <td>937820</td>\n",
       "    </tr>\n",
       "  </tbody>\n",
       "</table>\n",
       "</div>"
      ],
      "text/plain": [
       "   district        date     month  year  foriegn_visitors  domestic_visitors  \\\n",
       "0  Adilabad  2016-01-01   January  2016                 2             792136   \n",
       "1  Adilabad  2016-01-02  February  2016                 0             937820   \n",
       "\n",
       "   total_visitors  \n",
       "0          792138  \n",
       "1          937820  "
      ]
     },
     "execution_count": 21,
     "metadata": {},
     "output_type": "execute_result"
    }
   ],
   "source": [
    "df.head(2)"
   ]
  },
  {
   "cell_type": "code",
   "execution_count": 22,
   "metadata": {},
   "outputs": [],
   "source": [
    "grouped_data = df.groupby('district')['domestic_visitors'].sum()"
   ]
  },
  {
   "cell_type": "code",
   "execution_count": 23,
   "metadata": {},
   "outputs": [],
   "source": [
    "top_10_districts = grouped_data.sort_values(ascending=False).head(10)"
   ]
  },
  {
   "cell_type": "code",
   "execution_count": 24,
   "metadata": {},
   "outputs": [
    {
     "data": {
      "text/html": [
       "<div>\n",
       "<style scoped>\n",
       "    .dataframe tbody tr th:only-of-type {\n",
       "        vertical-align: middle;\n",
       "    }\n",
       "\n",
       "    .dataframe tbody tr th {\n",
       "        vertical-align: top;\n",
       "    }\n",
       "\n",
       "    .dataframe thead th {\n",
       "        text-align: right;\n",
       "    }\n",
       "</style>\n",
       "<table border=\"1\" class=\"dataframe\">\n",
       "  <thead>\n",
       "    <tr style=\"text-align: right;\">\n",
       "      <th></th>\n",
       "      <th>domestic_visitors</th>\n",
       "    </tr>\n",
       "    <tr>\n",
       "      <th>district</th>\n",
       "      <th></th>\n",
       "    </tr>\n",
       "  </thead>\n",
       "  <tbody>\n",
       "    <tr>\n",
       "      <th>Hyderabad</th>\n",
       "      <td>73184713</td>\n",
       "    </tr>\n",
       "    <tr>\n",
       "      <th>Warangal (Urban)</th>\n",
       "      <td>40881415</td>\n",
       "    </tr>\n",
       "    <tr>\n",
       "      <th>Rajanna Sircilla</th>\n",
       "      <td>26654379</td>\n",
       "    </tr>\n",
       "    <tr>\n",
       "      <th>Bhadradri Kothagudem</th>\n",
       "      <td>22585587</td>\n",
       "    </tr>\n",
       "    <tr>\n",
       "      <th>Jayashankar Bhoopalpally</th>\n",
       "      <td>20978330</td>\n",
       "    </tr>\n",
       "    <tr>\n",
       "      <th>Adilabad</th>\n",
       "      <td>19363417</td>\n",
       "    </tr>\n",
       "    <tr>\n",
       "      <th>Medak</th>\n",
       "      <td>15090069</td>\n",
       "    </tr>\n",
       "    <tr>\n",
       "      <th>Mahbubnagar</th>\n",
       "      <td>14915113</td>\n",
       "    </tr>\n",
       "    <tr>\n",
       "      <th>Nizamabad</th>\n",
       "      <td>12024670</td>\n",
       "    </tr>\n",
       "    <tr>\n",
       "      <th>Karimnagar</th>\n",
       "      <td>10798332</td>\n",
       "    </tr>\n",
       "  </tbody>\n",
       "</table>\n",
       "</div>"
      ],
      "text/plain": [
       "                          domestic_visitors\n",
       "district                                   \n",
       "Hyderabad                          73184713\n",
       "Warangal (Urban)                   40881415\n",
       "Rajanna Sircilla                   26654379\n",
       "Bhadradri Kothagudem               22585587\n",
       "Jayashankar Bhoopalpally           20978330\n",
       "Adilabad                           19363417\n",
       "Medak                              15090069\n",
       "Mahbubnagar                        14915113\n",
       "Nizamabad                          12024670\n",
       "Karimnagar                         10798332"
      ]
     },
     "execution_count": 24,
     "metadata": {},
     "output_type": "execute_result"
    }
   ],
   "source": [
    "pd.DataFrame(top_10_districts)"
   ]
  },
  {
   "cell_type": "code",
   "execution_count": 25,
   "metadata": {},
   "outputs": [
    {
     "data": {
      "image/png": "[encoded data removed]",
      "text/plain": [
       "<Figure size 900x600 with 1 Axes>"
      ]
     },
     "metadata": {},
     "output_type": "display_data"
    }
   ],
   "source": [
    "plt.figure(figsize=(9,6))\n",
    "\n",
    "# Define the number of colors in the gradient\n",
    "n_colors = 10\n",
    "\n",
    "# Create a color map from the 'Blues' colormap\n",
    "cmap = plt.cm.get_cmap('Blues', n_colors)\n",
    "\n",
    "# Generate a sequence of colors from dark to light\n",
    "colors = cmap(np.linspace(0.2, 1.0, n_colors))\n",
    "\n",
    "# Plot the top 10 districts in a horizontal bar chart with the color gradient\n",
    "top_10_districts.sort_values(ascending=True).plot(kind='barh', color=colors)\n",
    "\n",
    "# Set the title and axis labels\n",
    "plt.title('Top 10 districts with highest number of domestic visitors (2016-2019)')\n",
    "plt.xlabel('Number of domestic visitors')\n",
    "plt.ylabel('District')\n",
    "\n",
    "# Display the plot\n",
    "plt.show()\n"
   ]
  },
  {
   "cell_type": "markdown",
   "metadata": {},
   "source": [
    "### 2 List down the top 3 districts based on compounded annual growth rate (CAGR) of visitor between (2016 - 2019)?\n",
    "\n",
    "\n",
    "**(Insight: Districts that are growing)**\n",
    "\n",
    "To calculate the compounded annual growth rate (CAGR) of visitors for each district between 2016-2019, we can use the following formula:\n",
    "\n",
    "CAGR = (Ending value / Beginning value)^(1 / No. of years) - 1\n",
    "\n",
    "We can start by grouping the data by district and then calculate the CAGR for each district based on the number of visitors between 2016-2019. Then we can sort the CAGR values in descending order to get the top 3 growing districts."
   ]
  },
  {
   "cell_type": "code",
   "execution_count": 26,
   "metadata": {},
   "outputs": [
    {
     "name": "stdout",
     "output_type": "stream",
     "text": [
      "Top 3 districts based on CAGR of visitors (2016-2019):\n",
      "                  total_visitors\n",
      "district                        \n",
      "Warangal (Urban)       48.091532\n",
      "Nizamabad              24.928713\n",
      "Khammam                11.537669\n"
     ]
    }
   ],
   "source": [
    "# Filter the DataFrame to include only years between 2016 and 2019\n",
    "filtered = df[(df['year'] >= 2016) & (df['year'] <= 2019)]\n",
    "\n",
    "# Group the DataFrame by district and calculate the CAGR for each district\n",
    "def calculate_cagr(x):\n",
    "    if len(x) > 1 and 0 not in x.values:\n",
    "        return (x.max() / x.min()) ** (1/3) - 1\n",
    "    else:\n",
    "        return np.nan\n",
    "\n",
    "grouped = filtered.groupby('district').agg({'total_visitors': calculate_cagr})\n",
    "\n",
    "# Sort the districts in descending order of their CAGR and return the top 3 districts\n",
    "top_districts = grouped.sort_values('total_visitors', ascending=False).head(3)\n",
    "\n",
    "# Print the top districts and their CAGR\n",
    "print(\"Top 3 districts based on CAGR of visitors (2016-2019):\")\n",
    "print(top_districts)"
   ]
  },
  {
   "cell_type": "code",
   "execution_count": 27,
   "metadata": {},
   "outputs": [
    {
     "data": {
      "image/png": "[encoded data removed]",
      "text/plain": [
       "<Figure size 900x600 with 1 Axes>"
      ]
     },
     "metadata": {},
     "output_type": "display_data"
    }
   ],
   "source": [
    "plt.figure(figsize=(9,6))\n",
    "\n",
    "# Define the number of colors in the gradient\n",
    "n_colors = 10\n",
    "\n",
    "# Create a color map from the 'Blues' colormap\n",
    "cmap = plt.cm.get_cmap('Blues', n_colors)\n",
    "\n",
    "# Generate a sequence of colors from dark to light\n",
    "colors = cmap(np.linspace(0.2, 1.0, n_colors))\n",
    "\n",
    "# create a horizontal bar chart\n",
    "\n",
    "plt.barh(top_districts.index, top_districts['total_visitors'], color = colors)\n",
    "\n",
    "# Add a title and lables to the chart\n",
    "\n",
    "plt.title('Top 3 districts by Compounded Annual Growth Rate of Visitors')\n",
    "plt.xlabel('Compounded Annual Growth Rate')\n",
    "plt.ylabel('District')\n",
    "\n",
    "# Invert the y-axis to show the districts in descending order  \n",
    "plt.gca().invert_yaxis()\n",
    "\n",
    "# Display the plot\n",
    "plt.show()\n"
   ]
  },
  {
   "cell_type": "markdown",
   "metadata": {},
   "source": [
    "### 3. List down the bottom 3 districts based on compounded annual growth rate (CAGR) of visitors between(2016-2019)?\n",
    "\n",
    "**(Insight: Districts that are declining)**"
   ]
  },
  {
   "cell_type": "code",
   "execution_count": 28,
   "metadata": {},
   "outputs": [
    {
     "name": "stdout",
     "output_type": "stream",
     "text": [
      "bottom 3 districts based on CAGR of visitors (2016-2019):\n",
      "             total_visitors\n",
      "district                   \n",
      "Mulugu             0.452102\n",
      "Hyderabad          3.103451\n",
      "Mahbubnagar        3.738375\n"
     ]
    }
   ],
   "source": [
    "# Filter the DataFrame to include only years between 2016 and 2019\n",
    "filtered = df[(df['year'] >= 2016) & (df['year'] <= 2019)]\n",
    "\n",
    "# Group the DataFrame by district and calculate the CAGR for each district\n",
    "def calculate_cagr(x):\n",
    "    if len(x) > 1 and 0 not in x.values:\n",
    "        return (x.max() / x.min()) ** (1/3) - 1\n",
    "    else:\n",
    "        return np.nan\n",
    "\n",
    "grouped = filtered.groupby('district').agg({'total_visitors': calculate_cagr})\n",
    "\n",
    "# Sort the districts in descending order of their CAGR and return the top 3 districts\n",
    "bottom_districts = grouped.sort_values('total_visitors', ascending=True).head(3)\n",
    "\n",
    "# Print the top districts and their CAGR\n",
    "print(\"bottom 3 districts based on CAGR of visitors (2016-2019):\")\n",
    "print(bottom_districts)"
   ]
  },
  {
   "cell_type": "code",
   "execution_count": 29,
   "metadata": {},
   "outputs": [
    {
     "data": {
      "image/png": "[encoded data removed]",
      "text/plain": [
       "<Figure size 900x600 with 1 Axes>"
      ]
     },
     "metadata": {},
     "output_type": "display_data"
    }
   ],
   "source": [
    "plt.figure(figsize=(9,6))\n",
    "\n",
    "# Define the number of colors in the gradient\n",
    "n_colors = 6\n",
    "\n",
    "# Create a color map from the 'Blues' colormap\n",
    "cmap = plt.cm.get_cmap('Blues', n_colors)\n",
    "\n",
    "# Generate a sequence of colors from dark to light\n",
    "colors = cmap(np.linspace(0.2, 1.0, n_colors))\n",
    "\n",
    "# create a horizontal bar chart\n",
    "\n",
    "plt.barh(bottom_districts.index, bottom_districts['total_visitors'], color = colors)\n",
    "\n",
    "# Add a title and lables to the chart\n",
    "\n",
    "plt.title('bottom 3 districts by Compounded Visitors (2016-2019)')\n",
    "plt.xlabel('CAGR')\n",
    "plt.ylabel('District')\n",
    "\n",
    "# Invert the y-axis to show the districts in descending order  \n",
    "plt.gca().invert_yaxis()\n",
    "\n",
    "# Display the plot\n",
    "plt.show()\n"
   ]
  },
  {
   "cell_type": "markdown",
   "metadata": {},
   "source": [
    "### 4. What are the peak and low season months for Hyderabad based on the data from 2016 to 2019 for Hyderabad district ?\n",
    "\n",
    "\n",
    "**(Insight: Government can plan well for the peak seasons and boost low seasons by introducing new events)**"
   ]
  },
  {
   "cell_type": "code",
   "execution_count": 30,
   "metadata": {},
   "outputs": [
    {
     "name": "stdout",
     "output_type": "stream",
     "text": [
      "The peak season month for Hyderabad is June, and the low season month is February.\n"
     ]
    }
   ],
   "source": [
    "# Filter the DataFrame to include only data for Hyderabad district from 2016 and 2019\n",
    "\n",
    "hyd_data = df[(df['district']== 'Hyderabad') & (df['year'].between(2016, 2019))]\n",
    "\n",
    "# Group the data by month and calculate the average number of visitors for each month\n",
    "\n",
    "grouped_data = hyd_data.groupby('month').agg({'total_visitors': 'mean'})\n",
    "\n",
    "# Sort the data in descending order of average visitors and print the top and bottom months\n",
    "\n",
    "top_month = grouped_data.sort_values('total_visitors', ascending=False).head(1).index[0]\n",
    "bottom_month = grouped_data.sort_values('total_visitors', ascending=True).head(1).index[0]\n",
    "\n",
    "print(f\"The peak season month for Hyderabad is {top_month}, and the low season month is {bottom_month}.\")"
   ]
  },
  {
   "cell_type": "code",
   "execution_count": 31,
   "metadata": {},
   "outputs": [
    {
     "data": {
      "image/png": "[encoded data removed]",
      "text/plain": [
       "<Figure size 1000x800 with 1 Axes>"
      ]
     },
     "metadata": {},
     "output_type": "display_data"
    }
   ],
   "source": [
    "# Filter the DataFrame to include only data for Hyderabad district from 2016 and 2019\n",
    "\n",
    "hyd_data = df[(df['district']== 'Hyderabad') & (df['year'].between(2016, 2019))]\n",
    "\n",
    "# Group the data by month and calculate the average number of visitors for each month\n",
    "\n",
    "grouped_data = hyd_data.groupby('month').agg({'total_visitors': 'mean'})\n",
    "\n",
    "# Plot the data as a line chart\n",
    "\n",
    "plt.figure(figsize=(10,8))\n",
    "plt.plot(grouped_data.index, grouped_data['total_visitors'])\n",
    "plt.title('Monthely Visitors Trades of Hyderabad (2016-2019)')\n",
    "plt.xlabel('Month')\n",
    "plt.ylabel('Average_Visitors')\n",
    "plt.xticks(grouped_data.index)\n",
    "plt.show()"
   ]
  },
  {
   "cell_type": "markdown",
   "metadata": {},
   "source": [
    "### 5. Show the top & bottom 3 districts with high domestic to foreign tourist ratio ?\n",
    "\n",
    "\n",
    "**(Insight: Government can learn from top districts and replicate the same to bottom districts which can improve the foreign visitors as foreign visitors will bring more revenue)**"
   ]
  },
  {
   "cell_type": "code",
   "execution_count": 32,
   "metadata": {},
   "outputs": [],
   "source": [
    "df1 = Domestic.copy()"
   ]
  },
  {
   "cell_type": "code",
   "execution_count": 33,
   "metadata": {},
   "outputs": [
    {
     "data": {
      "text/html": [
       "<div>\n",
       "<style scoped>\n",
       "    .dataframe tbody tr th:only-of-type {\n",
       "        vertical-align: middle;\n",
       "    }\n",
       "\n",
       "    .dataframe tbody tr th {\n",
       "        vertical-align: top;\n",
       "    }\n",
       "\n",
       "    .dataframe thead th {\n",
       "        text-align: right;\n",
       "    }\n",
       "</style>\n",
       "<table border=\"1\" class=\"dataframe\">\n",
       "  <thead>\n",
       "    <tr style=\"text-align: right;\">\n",
       "      <th></th>\n",
       "      <th>district</th>\n",
       "      <th>date</th>\n",
       "      <th>month</th>\n",
       "      <th>year</th>\n",
       "      <th>domestic_visitors</th>\n",
       "    </tr>\n",
       "  </thead>\n",
       "  <tbody>\n",
       "    <tr>\n",
       "      <th>0</th>\n",
       "      <td>Adilabad</td>\n",
       "      <td>2016-01-01</td>\n",
       "      <td>January</td>\n",
       "      <td>2016</td>\n",
       "      <td>792136</td>\n",
       "    </tr>\n",
       "    <tr>\n",
       "      <th>1</th>\n",
       "      <td>Adilabad</td>\n",
       "      <td>2016-01-02</td>\n",
       "      <td>February</td>\n",
       "      <td>2016</td>\n",
       "      <td>937820</td>\n",
       "    </tr>\n",
       "    <tr>\n",
       "      <th>2</th>\n",
       "      <td>Adilabad</td>\n",
       "      <td>2016-01-03</td>\n",
       "      <td>March</td>\n",
       "      <td>2016</td>\n",
       "      <td>582946</td>\n",
       "    </tr>\n",
       "    <tr>\n",
       "      <th>3</th>\n",
       "      <td>Adilabad</td>\n",
       "      <td>2016-01-04</td>\n",
       "      <td>April</td>\n",
       "      <td>2016</td>\n",
       "      <td>341948</td>\n",
       "    </tr>\n",
       "    <tr>\n",
       "      <th>4</th>\n",
       "      <td>Adilabad</td>\n",
       "      <td>2016-01-05</td>\n",
       "      <td>May</td>\n",
       "      <td>2016</td>\n",
       "      <td>252887</td>\n",
       "    </tr>\n",
       "  </tbody>\n",
       "</table>\n",
       "</div>"
      ],
      "text/plain": [
       "   district        date     month  year  domestic_visitors\n",
       "0  Adilabad  2016-01-01   January  2016             792136\n",
       "1  Adilabad  2016-01-02  February  2016             937820\n",
       "2  Adilabad  2016-01-03     March  2016             582946\n",
       "3  Adilabad  2016-01-04     April  2016             341948\n",
       "4  Adilabad  2016-01-05       May  2016             252887"
      ]
     },
     "execution_count": 33,
     "metadata": {},
     "output_type": "execute_result"
    }
   ],
   "source": [
    "df1.head()"
   ]
  },
  {
   "cell_type": "code",
   "execution_count": 34,
   "metadata": {},
   "outputs": [],
   "source": [
    "df1['Domestic_visitors'] = df['domestic_visitors']\n",
    "df1['Foreign_visitors'] = Foreign['foriegn_visitors']\n",
    "df1.drop(columns='domestic_visitors', inplace=True)"
   ]
  },
  {
   "cell_type": "code",
   "execution_count": 35,
   "metadata": {},
   "outputs": [
    {
     "data": {
      "text/html": [
       "<div>\n",
       "<style scoped>\n",
       "    .dataframe tbody tr th:only-of-type {\n",
       "        vertical-align: middle;\n",
       "    }\n",
       "\n",
       "    .dataframe tbody tr th {\n",
       "        vertical-align: top;\n",
       "    }\n",
       "\n",
       "    .dataframe thead th {\n",
       "        text-align: right;\n",
       "    }\n",
       "</style>\n",
       "<table border=\"1\" class=\"dataframe\">\n",
       "  <thead>\n",
       "    <tr style=\"text-align: right;\">\n",
       "      <th></th>\n",
       "      <th>district</th>\n",
       "      <th>date</th>\n",
       "      <th>month</th>\n",
       "      <th>year</th>\n",
       "      <th>Domestic_visitors</th>\n",
       "      <th>Foreign_visitors</th>\n",
       "    </tr>\n",
       "  </thead>\n",
       "  <tbody>\n",
       "    <tr>\n",
       "      <th>0</th>\n",
       "      <td>Adilabad</td>\n",
       "      <td>2016-01-01</td>\n",
       "      <td>January</td>\n",
       "      <td>2016</td>\n",
       "      <td>792136</td>\n",
       "      <td>2</td>\n",
       "    </tr>\n",
       "    <tr>\n",
       "      <th>1</th>\n",
       "      <td>Adilabad</td>\n",
       "      <td>2016-01-02</td>\n",
       "      <td>February</td>\n",
       "      <td>2016</td>\n",
       "      <td>937820</td>\n",
       "      <td>0</td>\n",
       "    </tr>\n",
       "    <tr>\n",
       "      <th>2</th>\n",
       "      <td>Adilabad</td>\n",
       "      <td>2016-01-03</td>\n",
       "      <td>March</td>\n",
       "      <td>2016</td>\n",
       "      <td>582946</td>\n",
       "      <td>2</td>\n",
       "    </tr>\n",
       "    <tr>\n",
       "      <th>3</th>\n",
       "      <td>Adilabad</td>\n",
       "      <td>2016-01-04</td>\n",
       "      <td>April</td>\n",
       "      <td>2016</td>\n",
       "      <td>341948</td>\n",
       "      <td>0</td>\n",
       "    </tr>\n",
       "    <tr>\n",
       "      <th>4</th>\n",
       "      <td>Adilabad</td>\n",
       "      <td>2016-01-05</td>\n",
       "      <td>May</td>\n",
       "      <td>2016</td>\n",
       "      <td>252887</td>\n",
       "      <td>0</td>\n",
       "    </tr>\n",
       "  </tbody>\n",
       "</table>\n",
       "</div>"
      ],
      "text/plain": [
       "   district        date     month  year  Domestic_visitors  Foreign_visitors\n",
       "0  Adilabad  2016-01-01   January  2016             792136                 2\n",
       "1  Adilabad  2016-01-02  February  2016             937820                 0\n",
       "2  Adilabad  2016-01-03     March  2016             582946                 2\n",
       "3  Adilabad  2016-01-04     April  2016             341948                 0\n",
       "4  Adilabad  2016-01-05       May  2016             252887                 0"
      ]
     },
     "execution_count": 35,
     "metadata": {},
     "output_type": "execute_result"
    }
   ],
   "source": [
    "df1.head()"
   ]
  },
  {
   "cell_type": "code",
   "execution_count": 36,
   "metadata": {},
   "outputs": [
    {
     "name": "stdout",
     "output_type": "stream",
     "text": [
      "Top 3 districts with highest overall growth rate:\n",
      "           total_visitors\n",
      "district                 \n",
      "Nizamabad       18.791667\n",
      "Medak            2.787365\n",
      "Hyderabad        0.122274\n"
     ]
    }
   ],
   "source": [
    "# Calculate the total visitors (domestic + foreign) for each row\n",
    "\n",
    "df1['total_visitors'] = df1['Domestic_visitors'] + df1['Foreign_visitors']\n",
    "\n",
    "# Group the DataFrame by district and calculate the growth rate for each district\n",
    "\n",
    "grouped = df1.groupby('district').agg({'total_visitors': lambda x: (x.iloc[-1] - x.iloc[0]) / x.iloc[0] if x.iloc[0] != 0 else 0})\n",
    "\n",
    "# Sort the districts in descending order of their growth rate and return the top 3 districts\n",
    "\n",
    "top_districts = grouped.sort_values('total_visitors', ascending=False).head(3)\n",
    "\n",
    "# Print the top 3 districts and their growth rate\n",
    "\n",
    "print(\"Top 3 districts with highest overall growth rate:\")\n",
    "print(top_districts)"
   ]
  },
  {
   "cell_type": "code",
   "execution_count": 37,
   "metadata": {},
   "outputs": [
    {
     "data": {
      "image/png": "[encoded data removed]",
      "text/plain": [
       "<Figure size 900x600 with 1 Axes>"
      ]
     },
     "metadata": {},
     "output_type": "display_data"
    }
   ],
   "source": [
    "plt.figure(figsize=(9,6))\n",
    "\n",
    "# Create a bar chart of the growth rates for each district\n",
    "\n",
    "plt.barh(grouped.index, grouped['total_visitors'])\n",
    "\n",
    "# Set the title and axis labels\n",
    "plt.title('Overall growth rate by district')\n",
    "plt.xlabel('District')\n",
    "plt.ylabel('Growth rate')\n",
    "\n",
    "# Show the plot\n",
    "plt.show()"
   ]
  },
  {
   "cell_type": "markdown",
   "metadata": {},
   "source": [
    "### 6. List of the top & bottom 5 districts based on 'population to tourist football ratio*' ratio in 2019 ?\n",
    "\n",
    "\n",
    "#### (* ratio: Total Visitors / Total Residents Population in the given year)"
   ]
  },
  {
   "cell_type": "code",
   "execution_count": 38,
   "metadata": {},
   "outputs": [],
   "source": [
    "population = pd.read_excel(\"D:\\Dataset\\-Telangana-Government-Tourism\\Data\\census 2011.xlsx\")"
   ]
  },
  {
   "cell_type": "code",
   "execution_count": 40,
   "metadata": {},
   "outputs": [
    {
     "data": {
      "text/html": [
       "<div>\n",
       "<style scoped>\n",
       "    .dataframe tbody tr th:only-of-type {\n",
       "        vertical-align: middle;\n",
       "    }\n",
       "\n",
       "    .dataframe tbody tr th {\n",
       "        vertical-align: top;\n",
       "    }\n",
       "\n",
       "    .dataframe thead th {\n",
       "        text-align: right;\n",
       "    }\n",
       "</style>\n",
       "<table border=\"1\" class=\"dataframe\">\n",
       "  <thead>\n",
       "    <tr style=\"text-align: right;\">\n",
       "      <th></th>\n",
       "      <th>District Name</th>\n",
       "      <th>As per 2011 census</th>\n",
       "      <th>Estimated Population in 2023</th>\n",
       "    </tr>\n",
       "  </thead>\n",
       "  <tbody>\n",
       "    <tr>\n",
       "      <th>0</th>\n",
       "      <td>Adilabad</td>\n",
       "      <td>708972</td>\n",
       "      <td>768667</td>\n",
       "    </tr>\n",
       "    <tr>\n",
       "      <th>1</th>\n",
       "      <td>Bhadradri Kothagudem</td>\n",
       "      <td>1069261</td>\n",
       "      <td>1159293</td>\n",
       "    </tr>\n",
       "    <tr>\n",
       "      <th>2</th>\n",
       "      <td>Hyderabad</td>\n",
       "      <td>3943323</td>\n",
       "      <td>4275351</td>\n",
       "    </tr>\n",
       "    <tr>\n",
       "      <th>3</th>\n",
       "      <td>Jagitial</td>\n",
       "      <td>985417</td>\n",
       "      <td>1068389</td>\n",
       "    </tr>\n",
       "    <tr>\n",
       "      <th>4</th>\n",
       "      <td>Jangaon</td>\n",
       "      <td>566376</td>\n",
       "      <td>614065</td>\n",
       "    </tr>\n",
       "  </tbody>\n",
       "</table>\n",
       "</div>"
      ],
      "text/plain": [
       "          District Name  As per 2011 census  Estimated Population in 2023\n",
       "0              Adilabad              708972                        768667\n",
       "1  Bhadradri Kothagudem             1069261                       1159293\n",
       "2             Hyderabad             3943323                       4275351\n",
       "3              Jagitial              985417                       1068389\n",
       "4               Jangaon              566376                        614065"
      ]
     },
     "execution_count": 40,
     "metadata": {},
     "output_type": "execute_result"
    }
   ],
   "source": [
    "population.head()"
   ]
  },
  {
   "cell_type": "code",
   "execution_count": 39,
   "metadata": {},
   "outputs": [
    {
     "data": {
      "text/plain": [
       "(33, 3)"
      ]
     },
     "execution_count": 39,
     "metadata": {},
     "output_type": "execute_result"
    }
   ],
   "source": [
    "#  Printing Total Number of Rows and Columns of the Population Dataset\n",
    "\n",
    "population.shape"
   ]
  },
  {
   "cell_type": "code",
   "execution_count": 41,
   "metadata": {},
   "outputs": [
    {
     "data": {
      "text/plain": [
       "District Name                   0\n",
       "As per 2011 census              0\n",
       "Estimated Population in 2023    0\n",
       "dtype: int64"
      ]
     },
     "execution_count": 41,
     "metadata": {},
     "output_type": "execute_result"
    }
   ],
   "source": [
    "# Printing the Null Values of Population Dataset\n",
    "\n",
    "population.isnull().sum()"
   ]
  },
  {
   "cell_type": "code",
   "execution_count": 43,
   "metadata": {},
   "outputs": [
    {
     "data": {
      "text/plain": [
       "0"
      ]
     },
     "execution_count": 43,
     "metadata": {},
     "output_type": "execute_result"
    }
   ],
   "source": [
    "\n",
    "# Printing the Duplicated Values of Population Dataset\n",
    "\n",
    "population.duplicated().sum()"
   ]
  },
  {
   "cell_type": "code",
   "execution_count": 44,
   "metadata": {},
   "outputs": [
    {
     "data": {
      "text/plain": [
       "District Name                   object\n",
       "As per 2011 census               int64\n",
       "Estimated Population in 2023     int64\n",
       "dtype: object"
      ]
     },
     "execution_count": 44,
     "metadata": {},
     "output_type": "execute_result"
    }
   ],
   "source": [
    "# Printing    DataType of the Population Dataset\n",
    "\n",
    "population.head().dtypes"
   ]
  },
  {
   "cell_type": "code",
   "execution_count": 45,
   "metadata": {},
   "outputs": [
    {
     "data": {
      "text/html": [
       "<div>\n",
       "<style scoped>\n",
       "    .dataframe tbody tr th:only-of-type {\n",
       "        vertical-align: middle;\n",
       "    }\n",
       "\n",
       "    .dataframe tbody tr th {\n",
       "        vertical-align: top;\n",
       "    }\n",
       "\n",
       "    .dataframe thead th {\n",
       "        text-align: right;\n",
       "    }\n",
       "</style>\n",
       "<table border=\"1\" class=\"dataframe\">\n",
       "  <thead>\n",
       "    <tr style=\"text-align: right;\">\n",
       "      <th></th>\n",
       "      <th>district</th>\n",
       "      <th>date</th>\n",
       "      <th>month</th>\n",
       "      <th>year</th>\n",
       "      <th>foriegn_visitors</th>\n",
       "    </tr>\n",
       "  </thead>\n",
       "  <tbody>\n",
       "    <tr>\n",
       "      <th>1116</th>\n",
       "      <td>Adilabad</td>\n",
       "      <td>2019-01-01</td>\n",
       "      <td>January</td>\n",
       "      <td>2019</td>\n",
       "      <td>0</td>\n",
       "    </tr>\n",
       "    <tr>\n",
       "      <th>1117</th>\n",
       "      <td>Adilabad</td>\n",
       "      <td>2019-01-02</td>\n",
       "      <td>February</td>\n",
       "      <td>2019</td>\n",
       "      <td>2</td>\n",
       "    </tr>\n",
       "    <tr>\n",
       "      <th>1118</th>\n",
       "      <td>Adilabad</td>\n",
       "      <td>2019-01-03</td>\n",
       "      <td>March</td>\n",
       "      <td>2019</td>\n",
       "      <td>0</td>\n",
       "    </tr>\n",
       "    <tr>\n",
       "      <th>1119</th>\n",
       "      <td>Adilabad</td>\n",
       "      <td>2019-01-04</td>\n",
       "      <td>April</td>\n",
       "      <td>2019</td>\n",
       "      <td>0</td>\n",
       "    </tr>\n",
       "    <tr>\n",
       "      <th>1120</th>\n",
       "      <td>Adilabad</td>\n",
       "      <td>2019-01-05</td>\n",
       "      <td>May</td>\n",
       "      <td>2019</td>\n",
       "      <td>0</td>\n",
       "    </tr>\n",
       "    <tr>\n",
       "      <th>...</th>\n",
       "      <td>...</td>\n",
       "      <td>...</td>\n",
       "      <td>...</td>\n",
       "      <td>...</td>\n",
       "      <td>...</td>\n",
       "    </tr>\n",
       "    <tr>\n",
       "      <th>1507</th>\n",
       "      <td>Yadadri Bhongir</td>\n",
       "      <td>2019-01-08</td>\n",
       "      <td>August</td>\n",
       "      <td>2019</td>\n",
       "      <td>0</td>\n",
       "    </tr>\n",
       "    <tr>\n",
       "      <th>1508</th>\n",
       "      <td>Yadadri Bhongir</td>\n",
       "      <td>2019-01-09</td>\n",
       "      <td>September</td>\n",
       "      <td>2019</td>\n",
       "      <td>0</td>\n",
       "    </tr>\n",
       "    <tr>\n",
       "      <th>1509</th>\n",
       "      <td>Yadadri Bhongir</td>\n",
       "      <td>2019-01-10</td>\n",
       "      <td>October</td>\n",
       "      <td>2019</td>\n",
       "      <td>0</td>\n",
       "    </tr>\n",
       "    <tr>\n",
       "      <th>1510</th>\n",
       "      <td>Yadadri Bhongir</td>\n",
       "      <td>2019-01-11</td>\n",
       "      <td>November</td>\n",
       "      <td>2019</td>\n",
       "      <td>0</td>\n",
       "    </tr>\n",
       "    <tr>\n",
       "      <th>1511</th>\n",
       "      <td>Yadadri Bhongir</td>\n",
       "      <td>2019-01-12</td>\n",
       "      <td>December</td>\n",
       "      <td>2019</td>\n",
       "      <td>0</td>\n",
       "    </tr>\n",
       "  </tbody>\n",
       "</table>\n",
       "<p>396 rows × 5 columns</p>\n",
       "</div>"
      ],
      "text/plain": [
       "             district        date      month  year  foriegn_visitors\n",
       "1116         Adilabad  2019-01-01    January  2019                 0\n",
       "1117         Adilabad  2019-01-02   February  2019                 2\n",
       "1118         Adilabad  2019-01-03      March  2019                 0\n",
       "1119         Adilabad  2019-01-04      April  2019                 0\n",
       "1120         Adilabad  2019-01-05        May  2019                 0\n",
       "...               ...         ...        ...   ...               ...\n",
       "1507  Yadadri Bhongir  2019-01-08     August  2019                 0\n",
       "1508  Yadadri Bhongir  2019-01-09  September  2019                 0\n",
       "1509  Yadadri Bhongir  2019-01-10    October  2019                 0\n",
       "1510  Yadadri Bhongir  2019-01-11   November  2019                 0\n",
       "1511  Yadadri Bhongir  2019-01-12   December  2019                 0\n",
       "\n",
       "[396 rows x 5 columns]"
      ]
     },
     "execution_count": 45,
     "metadata": {},
     "output_type": "execute_result"
    }
   ],
   "source": [
    "Foreign[Foreign['year']==2019]"
   ]
  },
  {
   "cell_type": "code",
   "execution_count": 46,
   "metadata": {},
   "outputs": [
    {
     "data": {
      "text/html": [
       "<div>\n",
       "<style scoped>\n",
       "    .dataframe tbody tr th:only-of-type {\n",
       "        vertical-align: middle;\n",
       "    }\n",
       "\n",
       "    .dataframe tbody tr th {\n",
       "        vertical-align: top;\n",
       "    }\n",
       "\n",
       "    .dataframe thead th {\n",
       "        text-align: right;\n",
       "    }\n",
       "</style>\n",
       "<table border=\"1\" class=\"dataframe\">\n",
       "  <thead>\n",
       "    <tr style=\"text-align: right;\">\n",
       "      <th></th>\n",
       "      <th>district</th>\n",
       "      <th>date</th>\n",
       "      <th>month</th>\n",
       "      <th>year</th>\n",
       "      <th>foriegn_visitors</th>\n",
       "      <th>domestic_visitors</th>\n",
       "      <th>total_visitors</th>\n",
       "    </tr>\n",
       "  </thead>\n",
       "  <tbody>\n",
       "    <tr>\n",
       "      <th>1116</th>\n",
       "      <td>Adilabad</td>\n",
       "      <td>2019-01-01</td>\n",
       "      <td>January</td>\n",
       "      <td>2019</td>\n",
       "      <td>0</td>\n",
       "      <td>283365</td>\n",
       "      <td>283365</td>\n",
       "    </tr>\n",
       "    <tr>\n",
       "      <th>1117</th>\n",
       "      <td>Adilabad</td>\n",
       "      <td>2019-01-02</td>\n",
       "      <td>February</td>\n",
       "      <td>2019</td>\n",
       "      <td>2</td>\n",
       "      <td>229159</td>\n",
       "      <td>229161</td>\n",
       "    </tr>\n",
       "    <tr>\n",
       "      <th>1118</th>\n",
       "      <td>Adilabad</td>\n",
       "      <td>2019-01-03</td>\n",
       "      <td>March</td>\n",
       "      <td>2019</td>\n",
       "      <td>0</td>\n",
       "      <td>225448</td>\n",
       "      <td>225448</td>\n",
       "    </tr>\n",
       "    <tr>\n",
       "      <th>1119</th>\n",
       "      <td>Adilabad</td>\n",
       "      <td>2019-01-04</td>\n",
       "      <td>April</td>\n",
       "      <td>2019</td>\n",
       "      <td>0</td>\n",
       "      <td>349585</td>\n",
       "      <td>349585</td>\n",
       "    </tr>\n",
       "    <tr>\n",
       "      <th>1120</th>\n",
       "      <td>Adilabad</td>\n",
       "      <td>2019-01-05</td>\n",
       "      <td>May</td>\n",
       "      <td>2019</td>\n",
       "      <td>0</td>\n",
       "      <td>275800</td>\n",
       "      <td>275800</td>\n",
       "    </tr>\n",
       "    <tr>\n",
       "      <th>...</th>\n",
       "      <td>...</td>\n",
       "      <td>...</td>\n",
       "      <td>...</td>\n",
       "      <td>...</td>\n",
       "      <td>...</td>\n",
       "      <td>...</td>\n",
       "      <td>...</td>\n",
       "    </tr>\n",
       "    <tr>\n",
       "      <th>1507</th>\n",
       "      <td>Yadadri Bhongir</td>\n",
       "      <td>2019-01-08</td>\n",
       "      <td>August</td>\n",
       "      <td>2019</td>\n",
       "      <td>0</td>\n",
       "      <td>0</td>\n",
       "      <td>0</td>\n",
       "    </tr>\n",
       "    <tr>\n",
       "      <th>1508</th>\n",
       "      <td>Yadadri Bhongir</td>\n",
       "      <td>2019-01-09</td>\n",
       "      <td>September</td>\n",
       "      <td>2019</td>\n",
       "      <td>0</td>\n",
       "      <td>0</td>\n",
       "      <td>0</td>\n",
       "    </tr>\n",
       "    <tr>\n",
       "      <th>1509</th>\n",
       "      <td>Yadadri Bhongir</td>\n",
       "      <td>2019-01-10</td>\n",
       "      <td>October</td>\n",
       "      <td>2019</td>\n",
       "      <td>0</td>\n",
       "      <td>0</td>\n",
       "      <td>0</td>\n",
       "    </tr>\n",
       "    <tr>\n",
       "      <th>1510</th>\n",
       "      <td>Yadadri Bhongir</td>\n",
       "      <td>2019-01-11</td>\n",
       "      <td>November</td>\n",
       "      <td>2019</td>\n",
       "      <td>0</td>\n",
       "      <td>0</td>\n",
       "      <td>0</td>\n",
       "    </tr>\n",
       "    <tr>\n",
       "      <th>1511</th>\n",
       "      <td>Yadadri Bhongir</td>\n",
       "      <td>2019-01-12</td>\n",
       "      <td>December</td>\n",
       "      <td>2019</td>\n",
       "      <td>0</td>\n",
       "      <td>0</td>\n",
       "      <td>0</td>\n",
       "    </tr>\n",
       "  </tbody>\n",
       "</table>\n",
       "<p>396 rows × 7 columns</p>\n",
       "</div>"
      ],
      "text/plain": [
       "             district        date      month  year  foriegn_visitors  \\\n",
       "1116         Adilabad  2019-01-01    January  2019                 0   \n",
       "1117         Adilabad  2019-01-02   February  2019                 2   \n",
       "1118         Adilabad  2019-01-03      March  2019                 0   \n",
       "1119         Adilabad  2019-01-04      April  2019                 0   \n",
       "1120         Adilabad  2019-01-05        May  2019                 0   \n",
       "...               ...         ...        ...   ...               ...   \n",
       "1507  Yadadri Bhongir  2019-01-08     August  2019                 0   \n",
       "1508  Yadadri Bhongir  2019-01-09  September  2019                 0   \n",
       "1509  Yadadri Bhongir  2019-01-10    October  2019                 0   \n",
       "1510  Yadadri Bhongir  2019-01-11   November  2019                 0   \n",
       "1511  Yadadri Bhongir  2019-01-12   December  2019                 0   \n",
       "\n",
       "      domestic_visitors  total_visitors  \n",
       "1116             283365          283365  \n",
       "1117             229159          229161  \n",
       "1118             225448          225448  \n",
       "1119             349585          349585  \n",
       "1120             275800          275800  \n",
       "...                 ...             ...  \n",
       "1507                  0               0  \n",
       "1508                  0               0  \n",
       "1509                  0               0  \n",
       "1510                  0               0  \n",
       "1511                  0               0  \n",
       "\n",
       "[396 rows x 7 columns]"
      ]
     },
     "execution_count": 46,
     "metadata": {},
     "output_type": "execute_result"
    }
   ],
   "source": [
    "df[df['year']==2019]"
   ]
  },
  {
   "cell_type": "code",
   "execution_count": 47,
   "metadata": {},
   "outputs": [],
   "source": [
    "# Sorting only 2019 year data into df_2019\n",
    "\n",
    "df_2019 = df[df['year']==2019]"
   ]
  },
  {
   "cell_type": "code",
   "execution_count": 48,
   "metadata": {},
   "outputs": [
    {
     "data": {
      "text/html": [
       "<div>\n",
       "<style scoped>\n",
       "    .dataframe tbody tr th:only-of-type {\n",
       "        vertical-align: middle;\n",
       "    }\n",
       "\n",
       "    .dataframe tbody tr th {\n",
       "        vertical-align: top;\n",
       "    }\n",
       "\n",
       "    .dataframe thead th {\n",
       "        text-align: right;\n",
       "    }\n",
       "</style>\n",
       "<table border=\"1\" class=\"dataframe\">\n",
       "  <thead>\n",
       "    <tr style=\"text-align: right;\">\n",
       "      <th></th>\n",
       "      <th>district</th>\n",
       "      <th>date</th>\n",
       "      <th>month</th>\n",
       "      <th>year</th>\n",
       "      <th>foriegn_visitors</th>\n",
       "      <th>domestic_visitors</th>\n",
       "      <th>total_visitors</th>\n",
       "    </tr>\n",
       "  </thead>\n",
       "  <tbody>\n",
       "    <tr>\n",
       "      <th>1116</th>\n",
       "      <td>Adilabad</td>\n",
       "      <td>2019-01-01</td>\n",
       "      <td>January</td>\n",
       "      <td>2019</td>\n",
       "      <td>0</td>\n",
       "      <td>283365</td>\n",
       "      <td>283365</td>\n",
       "    </tr>\n",
       "    <tr>\n",
       "      <th>1117</th>\n",
       "      <td>Adilabad</td>\n",
       "      <td>2019-01-02</td>\n",
       "      <td>February</td>\n",
       "      <td>2019</td>\n",
       "      <td>2</td>\n",
       "      <td>229159</td>\n",
       "      <td>229161</td>\n",
       "    </tr>\n",
       "    <tr>\n",
       "      <th>1118</th>\n",
       "      <td>Adilabad</td>\n",
       "      <td>2019-01-03</td>\n",
       "      <td>March</td>\n",
       "      <td>2019</td>\n",
       "      <td>0</td>\n",
       "      <td>225448</td>\n",
       "      <td>225448</td>\n",
       "    </tr>\n",
       "    <tr>\n",
       "      <th>1119</th>\n",
       "      <td>Adilabad</td>\n",
       "      <td>2019-01-04</td>\n",
       "      <td>April</td>\n",
       "      <td>2019</td>\n",
       "      <td>0</td>\n",
       "      <td>349585</td>\n",
       "      <td>349585</td>\n",
       "    </tr>\n",
       "    <tr>\n",
       "      <th>1120</th>\n",
       "      <td>Adilabad</td>\n",
       "      <td>2019-01-05</td>\n",
       "      <td>May</td>\n",
       "      <td>2019</td>\n",
       "      <td>0</td>\n",
       "      <td>275800</td>\n",
       "      <td>275800</td>\n",
       "    </tr>\n",
       "  </tbody>\n",
       "</table>\n",
       "</div>"
      ],
      "text/plain": [
       "      district        date     month  year  foriegn_visitors  \\\n",
       "1116  Adilabad  2019-01-01   January  2019                 0   \n",
       "1117  Adilabad  2019-01-02  February  2019                 2   \n",
       "1118  Adilabad  2019-01-03     March  2019                 0   \n",
       "1119  Adilabad  2019-01-04     April  2019                 0   \n",
       "1120  Adilabad  2019-01-05       May  2019                 0   \n",
       "\n",
       "      domestic_visitors  total_visitors  \n",
       "1116             283365          283365  \n",
       "1117             229159          229161  \n",
       "1118             225448          225448  \n",
       "1119             349585          349585  \n",
       "1120             275800          275800  "
      ]
     },
     "execution_count": 48,
     "metadata": {},
     "output_type": "execute_result"
    }
   ],
   "source": [
    "df_2019.head()"
   ]
  },
  {
   "cell_type": "code",
   "execution_count": null,
   "metadata": {},
   "outputs": [],
   "source": []
  }
 ],
 "metadata": {
  "kernelspec": {
   "display_name": "base",
   "language": "python",
   "name": "python3"
  },
  "language_info": {
   "codemirror_mode": {
    "name": "ipython",
    "version": 3
   },
   "file_extension": ".py",
   "mimetype": "text/x-python",
   "name": "python",
   "nbconvert_exporter": "python",
   "pygments_lexer": "ipython3",
   "version": "3.10.9"
  },
  "orig_nbformat": 4
 },
 "nbformat": 4,
 "nbformat_minor": 2
}
